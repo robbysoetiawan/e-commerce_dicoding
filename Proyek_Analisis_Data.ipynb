{
 "cells": [
  {
   "cell_type": "markdown",
   "metadata": {
    "id": "H9wADwK78DCz"
   },
   "source": [
    "# Proyek Analisis Data: E-Commerce\n",
    "- **Nama:** Robby Sutiawan\n",
    "- **Email:** robbysoetiawan@gmail.com\n",
    "- **ID Dicoding:** robbysoetiawan"
   ]
  },
  {
   "cell_type": "markdown",
   "metadata": {
    "id": "eE0raob58DC0"
   },
   "source": [
    "## Menentukan Pertanyaan Bisnis"
   ]
  },
  {
   "cell_type": "markdown",
   "metadata": {
    "id": "GmQeQ5YF8DC0"
   },
   "source": [
    "- Bagaimana trend penjualan per bulan?\n",
    "- Bagaimana komposisi status pesanan?\n",
    "- Bagaimana distribusi penjualan berdasarkan wilayah?\n",
    "- Produk apa yang paling memberikan revenue terbesar?\n",
    "- Siapa pelanggan yang menyumbang revenue terbesar?\n",
    "- Bagaimana segmentasi pelanggan berdasar RFM?"
   ]
  },
  {
   "cell_type": "markdown",
   "metadata": {
    "id": "H-z4QGlO8DC1"
   },
   "source": [
    "## Import Semua Packages/Library yang Digunakan"
   ]
  },
  {
   "cell_type": "code",
   "execution_count": 57,
   "metadata": {
    "id": "FVYwaObI8DC1"
   },
   "outputs": [],
   "source": [
    "import pandas as pd\n",
    "import numpy as np\n",
    "import matplotlib.pyplot as plt\n",
    "import seaborn as sns\n",
    "from sklearn.cluster import KMeans\n",
    "from sklearn.preprocessing import StandardScaler\n",
    "import warnings\n",
    "warnings.filterwarnings('ignore')"
   ]
  },
  {
   "cell_type": "markdown",
   "metadata": {
    "id": "h_Sh51Xy8DC1"
   },
   "source": [
    "## Data Wrangling"
   ]
  },
  {
   "cell_type": "markdown",
   "metadata": {
    "id": "sXU2GBYu8DC1"
   },
   "source": [
    "### Gathering Data"
   ]
  },
  {
   "cell_type": "code",
   "execution_count": 58,
   "metadata": {
    "id": "zjCBk1BI8DC1"
   },
   "outputs": [
    {
     "data": {
      "text/html": [
       "<div>\n",
       "<style scoped>\n",
       "    .dataframe tbody tr th:only-of-type {\n",
       "        vertical-align: middle;\n",
       "    }\n",
       "\n",
       "    .dataframe tbody tr th {\n",
       "        vertical-align: top;\n",
       "    }\n",
       "\n",
       "    .dataframe thead th {\n",
       "        text-align: right;\n",
       "    }\n",
       "</style>\n",
       "<table border=\"1\" class=\"dataframe\">\n",
       "  <thead>\n",
       "    <tr style=\"text-align: right;\">\n",
       "      <th></th>\n",
       "      <th>order_id</th>\n",
       "      <th>product_id</th>\n",
       "      <th>shipping_limit_date</th>\n",
       "      <th>price</th>\n",
       "      <th>freight_value</th>\n",
       "    </tr>\n",
       "  </thead>\n",
       "  <tbody>\n",
       "    <tr>\n",
       "      <th>0</th>\n",
       "      <td>00010242fe8c5a6d1ba2dd792cb16214</td>\n",
       "      <td>4244733e06e7ecb4970a6e2683c13e61</td>\n",
       "      <td>2017-09-19 09:45:35</td>\n",
       "      <td>58.90</td>\n",
       "      <td>13.29</td>\n",
       "    </tr>\n",
       "    <tr>\n",
       "      <th>1</th>\n",
       "      <td>00018f77f2f0320c557190d7a144bdd3</td>\n",
       "      <td>e5f2d52b802189ee658865ca93d83a8f</td>\n",
       "      <td>2017-05-03 11:05:13</td>\n",
       "      <td>239.90</td>\n",
       "      <td>19.93</td>\n",
       "    </tr>\n",
       "    <tr>\n",
       "      <th>2</th>\n",
       "      <td>000229ec398224ef6ca0657da4fc703e</td>\n",
       "      <td>c777355d18b72b67abbeef9df44fd0fd</td>\n",
       "      <td>2018-01-18 14:48:30</td>\n",
       "      <td>199.00</td>\n",
       "      <td>17.87</td>\n",
       "    </tr>\n",
       "    <tr>\n",
       "      <th>3</th>\n",
       "      <td>00024acbcdf0a6daa1e931b038114c75</td>\n",
       "      <td>7634da152a4610f1595efa32f14722fc</td>\n",
       "      <td>2018-08-15 10:10:18</td>\n",
       "      <td>12.99</td>\n",
       "      <td>12.79</td>\n",
       "    </tr>\n",
       "    <tr>\n",
       "      <th>4</th>\n",
       "      <td>00042b26cf59d7ce69dfabb4e55b4fd9</td>\n",
       "      <td>ac6c3623068f30de03045865e4e10089</td>\n",
       "      <td>2017-02-13 13:57:51</td>\n",
       "      <td>199.90</td>\n",
       "      <td>18.14</td>\n",
       "    </tr>\n",
       "  </tbody>\n",
       "</table>\n",
       "</div>"
      ],
      "text/plain": [
       "                           order_id                        product_id  \\\n",
       "0  00010242fe8c5a6d1ba2dd792cb16214  4244733e06e7ecb4970a6e2683c13e61   \n",
       "1  00018f77f2f0320c557190d7a144bdd3  e5f2d52b802189ee658865ca93d83a8f   \n",
       "2  000229ec398224ef6ca0657da4fc703e  c777355d18b72b67abbeef9df44fd0fd   \n",
       "3  00024acbcdf0a6daa1e931b038114c75  7634da152a4610f1595efa32f14722fc   \n",
       "4  00042b26cf59d7ce69dfabb4e55b4fd9  ac6c3623068f30de03045865e4e10089   \n",
       "\n",
       "   shipping_limit_date   price  freight_value  \n",
       "0  2017-09-19 09:45:35   58.90          13.29  \n",
       "1  2017-05-03 11:05:13  239.90          19.93  \n",
       "2  2018-01-18 14:48:30  199.00          17.87  \n",
       "3  2018-08-15 10:10:18   12.99          12.79  \n",
       "4  2017-02-13 13:57:51  199.90          18.14  "
      ]
     },
     "execution_count": 58,
     "metadata": {},
     "output_type": "execute_result"
    }
   ],
   "source": [
    "# import dataset order\n",
    "df_order = pd.read_csv('dataset\\order_items_dataset.csv')\n",
    "df_order = df_order[['order_id','product_id','shipping_limit_date','price','freight_value']]\n",
    "df_order.head()"
   ]
  },
  {
   "cell_type": "code",
   "execution_count": 59,
   "metadata": {},
   "outputs": [
    {
     "data": {
      "text/html": [
       "<div>\n",
       "<style scoped>\n",
       "    .dataframe tbody tr th:only-of-type {\n",
       "        vertical-align: middle;\n",
       "    }\n",
       "\n",
       "    .dataframe tbody tr th {\n",
       "        vertical-align: top;\n",
       "    }\n",
       "\n",
       "    .dataframe thead th {\n",
       "        text-align: right;\n",
       "    }\n",
       "</style>\n",
       "<table border=\"1\" class=\"dataframe\">\n",
       "  <thead>\n",
       "    <tr style=\"text-align: right;\">\n",
       "      <th></th>\n",
       "      <th>order_id</th>\n",
       "      <th>customer_id</th>\n",
       "      <th>order_status</th>\n",
       "      <th>order_purchase_timestamp</th>\n",
       "      <th>order_delivered_customer_date</th>\n",
       "      <th>order_estimated_delivery_date</th>\n",
       "    </tr>\n",
       "  </thead>\n",
       "  <tbody>\n",
       "    <tr>\n",
       "      <th>0</th>\n",
       "      <td>e481f51cbdc54678b7cc49136f2d6af7</td>\n",
       "      <td>9ef432eb6251297304e76186b10a928d</td>\n",
       "      <td>delivered</td>\n",
       "      <td>2017-10-02 10:56:33</td>\n",
       "      <td>2017-10-10 21:25:13</td>\n",
       "      <td>2017-10-18 00:00:00</td>\n",
       "    </tr>\n",
       "    <tr>\n",
       "      <th>1</th>\n",
       "      <td>53cdb2fc8bc7dce0b6741e2150273451</td>\n",
       "      <td>b0830fb4747a6c6d20dea0b8c802d7ef</td>\n",
       "      <td>delivered</td>\n",
       "      <td>2018-07-24 20:41:37</td>\n",
       "      <td>2018-08-07 15:27:45</td>\n",
       "      <td>2018-08-13 00:00:00</td>\n",
       "    </tr>\n",
       "    <tr>\n",
       "      <th>2</th>\n",
       "      <td>47770eb9100c2d0c44946d9cf07ec65d</td>\n",
       "      <td>41ce2a54c0b03bf3443c3d931a367089</td>\n",
       "      <td>delivered</td>\n",
       "      <td>2018-08-08 08:38:49</td>\n",
       "      <td>2018-08-17 18:06:29</td>\n",
       "      <td>2018-09-04 00:00:00</td>\n",
       "    </tr>\n",
       "    <tr>\n",
       "      <th>3</th>\n",
       "      <td>949d5b44dbf5de918fe9c16f97b45f8a</td>\n",
       "      <td>f88197465ea7920adcdbec7375364d82</td>\n",
       "      <td>delivered</td>\n",
       "      <td>2017-11-18 19:28:06</td>\n",
       "      <td>2017-12-02 00:28:42</td>\n",
       "      <td>2017-12-15 00:00:00</td>\n",
       "    </tr>\n",
       "    <tr>\n",
       "      <th>4</th>\n",
       "      <td>ad21c59c0840e6cb83a9ceb5573f8159</td>\n",
       "      <td>8ab97904e6daea8866dbdbc4fb7aad2c</td>\n",
       "      <td>delivered</td>\n",
       "      <td>2018-02-13 21:18:39</td>\n",
       "      <td>2018-02-16 18:17:02</td>\n",
       "      <td>2018-02-26 00:00:00</td>\n",
       "    </tr>\n",
       "  </tbody>\n",
       "</table>\n",
       "</div>"
      ],
      "text/plain": [
       "                           order_id                       customer_id  \\\n",
       "0  e481f51cbdc54678b7cc49136f2d6af7  9ef432eb6251297304e76186b10a928d   \n",
       "1  53cdb2fc8bc7dce0b6741e2150273451  b0830fb4747a6c6d20dea0b8c802d7ef   \n",
       "2  47770eb9100c2d0c44946d9cf07ec65d  41ce2a54c0b03bf3443c3d931a367089   \n",
       "3  949d5b44dbf5de918fe9c16f97b45f8a  f88197465ea7920adcdbec7375364d82   \n",
       "4  ad21c59c0840e6cb83a9ceb5573f8159  8ab97904e6daea8866dbdbc4fb7aad2c   \n",
       "\n",
       "  order_status order_purchase_timestamp order_delivered_customer_date  \\\n",
       "0    delivered      2017-10-02 10:56:33           2017-10-10 21:25:13   \n",
       "1    delivered      2018-07-24 20:41:37           2018-08-07 15:27:45   \n",
       "2    delivered      2018-08-08 08:38:49           2018-08-17 18:06:29   \n",
       "3    delivered      2017-11-18 19:28:06           2017-12-02 00:28:42   \n",
       "4    delivered      2018-02-13 21:18:39           2018-02-16 18:17:02   \n",
       "\n",
       "  order_estimated_delivery_date  \n",
       "0           2017-10-18 00:00:00  \n",
       "1           2018-08-13 00:00:00  \n",
       "2           2018-09-04 00:00:00  \n",
       "3           2017-12-15 00:00:00  \n",
       "4           2018-02-26 00:00:00  "
      ]
     },
     "execution_count": 59,
     "metadata": {},
     "output_type": "execute_result"
    }
   ],
   "source": [
    "# import dataset status\n",
    "df_status = pd.read_csv('dataset\\orders_dataset.csv')\n",
    "df_status = df_status[['order_id','customer_id','order_status','order_purchase_timestamp','order_delivered_customer_date', 'order_estimated_delivery_date']]\n",
    "df_status.head()"
   ]
  },
  {
   "cell_type": "code",
   "execution_count": 60,
   "metadata": {},
   "outputs": [
    {
     "data": {
      "text/html": [
       "<div>\n",
       "<style scoped>\n",
       "    .dataframe tbody tr th:only-of-type {\n",
       "        vertical-align: middle;\n",
       "    }\n",
       "\n",
       "    .dataframe tbody tr th {\n",
       "        vertical-align: top;\n",
       "    }\n",
       "\n",
       "    .dataframe thead th {\n",
       "        text-align: right;\n",
       "    }\n",
       "</style>\n",
       "<table border=\"1\" class=\"dataframe\">\n",
       "  <thead>\n",
       "    <tr style=\"text-align: right;\">\n",
       "      <th></th>\n",
       "      <th>product_id</th>\n",
       "      <th>product_category_name</th>\n",
       "    </tr>\n",
       "  </thead>\n",
       "  <tbody>\n",
       "    <tr>\n",
       "      <th>0</th>\n",
       "      <td>1e9e8ef04dbcff4541ed26657ea517e5</td>\n",
       "      <td>perfumaria</td>\n",
       "    </tr>\n",
       "    <tr>\n",
       "      <th>1</th>\n",
       "      <td>3aa071139cb16b67ca9e5dea641aaa2f</td>\n",
       "      <td>artes</td>\n",
       "    </tr>\n",
       "    <tr>\n",
       "      <th>2</th>\n",
       "      <td>96bd76ec8810374ed1b65e291975717f</td>\n",
       "      <td>esporte_lazer</td>\n",
       "    </tr>\n",
       "    <tr>\n",
       "      <th>3</th>\n",
       "      <td>cef67bcfe19066a932b7673e239eb23d</td>\n",
       "      <td>bebes</td>\n",
       "    </tr>\n",
       "    <tr>\n",
       "      <th>4</th>\n",
       "      <td>9dc1a7de274444849c219cff195d0b71</td>\n",
       "      <td>utilidades_domesticas</td>\n",
       "    </tr>\n",
       "  </tbody>\n",
       "</table>\n",
       "</div>"
      ],
      "text/plain": [
       "                         product_id  product_category_name\n",
       "0  1e9e8ef04dbcff4541ed26657ea517e5             perfumaria\n",
       "1  3aa071139cb16b67ca9e5dea641aaa2f                  artes\n",
       "2  96bd76ec8810374ed1b65e291975717f          esporte_lazer\n",
       "3  cef67bcfe19066a932b7673e239eb23d                  bebes\n",
       "4  9dc1a7de274444849c219cff195d0b71  utilidades_domesticas"
      ]
     },
     "execution_count": 60,
     "metadata": {},
     "output_type": "execute_result"
    }
   ],
   "source": [
    "# import dataset product\n",
    "df_product = pd.read_csv('dataset\\products_dataset.csv')\n",
    "df_product = df_product[['product_id','product_category_name']]\n",
    "df_product.head()"
   ]
  },
  {
   "cell_type": "code",
   "execution_count": 61,
   "metadata": {},
   "outputs": [
    {
     "data": {
      "text/html": [
       "<div>\n",
       "<style scoped>\n",
       "    .dataframe tbody tr th:only-of-type {\n",
       "        vertical-align: middle;\n",
       "    }\n",
       "\n",
       "    .dataframe tbody tr th {\n",
       "        vertical-align: top;\n",
       "    }\n",
       "\n",
       "    .dataframe thead th {\n",
       "        text-align: right;\n",
       "    }\n",
       "</style>\n",
       "<table border=\"1\" class=\"dataframe\">\n",
       "  <thead>\n",
       "    <tr style=\"text-align: right;\">\n",
       "      <th></th>\n",
       "      <th>customer_id</th>\n",
       "      <th>customer_city</th>\n",
       "      <th>customer_state</th>\n",
       "    </tr>\n",
       "  </thead>\n",
       "  <tbody>\n",
       "    <tr>\n",
       "      <th>0</th>\n",
       "      <td>06b8999e2fba1a1fbc88172c00ba8bc7</td>\n",
       "      <td>franca</td>\n",
       "      <td>SP</td>\n",
       "    </tr>\n",
       "    <tr>\n",
       "      <th>1</th>\n",
       "      <td>18955e83d337fd6b2def6b18a428ac77</td>\n",
       "      <td>sao bernardo do campo</td>\n",
       "      <td>SP</td>\n",
       "    </tr>\n",
       "    <tr>\n",
       "      <th>2</th>\n",
       "      <td>4e7b3e00288586ebd08712fdd0374a03</td>\n",
       "      <td>sao paulo</td>\n",
       "      <td>SP</td>\n",
       "    </tr>\n",
       "    <tr>\n",
       "      <th>3</th>\n",
       "      <td>b2b6027bc5c5109e529d4dc6358b12c3</td>\n",
       "      <td>mogi das cruzes</td>\n",
       "      <td>SP</td>\n",
       "    </tr>\n",
       "    <tr>\n",
       "      <th>4</th>\n",
       "      <td>4f2d8ab171c80ec8364f7c12e35b23ad</td>\n",
       "      <td>campinas</td>\n",
       "      <td>SP</td>\n",
       "    </tr>\n",
       "  </tbody>\n",
       "</table>\n",
       "</div>"
      ],
      "text/plain": [
       "                        customer_id          customer_city customer_state\n",
       "0  06b8999e2fba1a1fbc88172c00ba8bc7                 franca             SP\n",
       "1  18955e83d337fd6b2def6b18a428ac77  sao bernardo do campo             SP\n",
       "2  4e7b3e00288586ebd08712fdd0374a03              sao paulo             SP\n",
       "3  b2b6027bc5c5109e529d4dc6358b12c3        mogi das cruzes             SP\n",
       "4  4f2d8ab171c80ec8364f7c12e35b23ad               campinas             SP"
      ]
     },
     "execution_count": 61,
     "metadata": {},
     "output_type": "execute_result"
    }
   ],
   "source": [
    "# import dataset customer\n",
    "df_customer = pd.read_csv('dataset\\customers_dataset.csv')\n",
    "df_customer = df_customer[['customer_id','customer_city','customer_state']]\n",
    "df_customer.head()"
   ]
  },
  {
   "cell_type": "code",
   "execution_count": 62,
   "metadata": {},
   "outputs": [
    {
     "data": {
      "text/html": [
       "<div>\n",
       "<style scoped>\n",
       "    .dataframe tbody tr th:only-of-type {\n",
       "        vertical-align: middle;\n",
       "    }\n",
       "\n",
       "    .dataframe tbody tr th {\n",
       "        vertical-align: top;\n",
       "    }\n",
       "\n",
       "    .dataframe thead th {\n",
       "        text-align: right;\n",
       "    }\n",
       "</style>\n",
       "<table border=\"1\" class=\"dataframe\">\n",
       "  <thead>\n",
       "    <tr style=\"text-align: right;\">\n",
       "      <th></th>\n",
       "      <th>product_category_name</th>\n",
       "      <th>product_category_name_english</th>\n",
       "    </tr>\n",
       "  </thead>\n",
       "  <tbody>\n",
       "    <tr>\n",
       "      <th>0</th>\n",
       "      <td>beleza_saude</td>\n",
       "      <td>health_beauty</td>\n",
       "    </tr>\n",
       "    <tr>\n",
       "      <th>1</th>\n",
       "      <td>informatica_acessorios</td>\n",
       "      <td>computers_accessories</td>\n",
       "    </tr>\n",
       "    <tr>\n",
       "      <th>2</th>\n",
       "      <td>automotivo</td>\n",
       "      <td>auto</td>\n",
       "    </tr>\n",
       "    <tr>\n",
       "      <th>3</th>\n",
       "      <td>cama_mesa_banho</td>\n",
       "      <td>bed_bath_table</td>\n",
       "    </tr>\n",
       "    <tr>\n",
       "      <th>4</th>\n",
       "      <td>moveis_decoracao</td>\n",
       "      <td>furniture_decor</td>\n",
       "    </tr>\n",
       "  </tbody>\n",
       "</table>\n",
       "</div>"
      ],
      "text/plain": [
       "    product_category_name product_category_name_english\n",
       "0            beleza_saude                 health_beauty\n",
       "1  informatica_acessorios         computers_accessories\n",
       "2              automotivo                          auto\n",
       "3         cama_mesa_banho                bed_bath_table\n",
       "4        moveis_decoracao               furniture_decor"
      ]
     },
     "execution_count": 62,
     "metadata": {},
     "output_type": "execute_result"
    }
   ],
   "source": [
    "# import dataset produk dalam bahasa inggris\n",
    "df_product_english = pd.read_csv('dataset\\product_category_name_translation.csv')\n",
    "df_product_english.head()"
   ]
  },
  {
   "cell_type": "code",
   "execution_count": 63,
   "metadata": {},
   "outputs": [
    {
     "name": "stdout",
     "output_type": "stream",
     "text": [
      "(112650, 13)\n"
     ]
    },
    {
     "data": {
      "text/html": [
       "<div>\n",
       "<style scoped>\n",
       "    .dataframe tbody tr th:only-of-type {\n",
       "        vertical-align: middle;\n",
       "    }\n",
       "\n",
       "    .dataframe tbody tr th {\n",
       "        vertical-align: top;\n",
       "    }\n",
       "\n",
       "    .dataframe thead th {\n",
       "        text-align: right;\n",
       "    }\n",
       "</style>\n",
       "<table border=\"1\" class=\"dataframe\">\n",
       "  <thead>\n",
       "    <tr style=\"text-align: right;\">\n",
       "      <th></th>\n",
       "      <th>order_id</th>\n",
       "      <th>customer_id</th>\n",
       "      <th>order_status</th>\n",
       "      <th>order_purchase_timestamp</th>\n",
       "      <th>order_delivered_customer_date</th>\n",
       "      <th>order_estimated_delivery_date</th>\n",
       "      <th>product_id</th>\n",
       "      <th>shipping_limit_date</th>\n",
       "      <th>price</th>\n",
       "      <th>freight_value</th>\n",
       "      <th>customer_city</th>\n",
       "      <th>customer_state</th>\n",
       "      <th>product_category_name_english</th>\n",
       "    </tr>\n",
       "  </thead>\n",
       "  <tbody>\n",
       "    <tr>\n",
       "      <th>0</th>\n",
       "      <td>e481f51cbdc54678b7cc49136f2d6af7</td>\n",
       "      <td>9ef432eb6251297304e76186b10a928d</td>\n",
       "      <td>delivered</td>\n",
       "      <td>2017-10-02 10:56:33</td>\n",
       "      <td>2017-10-10 21:25:13</td>\n",
       "      <td>2017-10-18 00:00:00</td>\n",
       "      <td>87285b34884572647811a353c7ac498a</td>\n",
       "      <td>2017-10-06 11:07:15</td>\n",
       "      <td>29.99</td>\n",
       "      <td>8.72</td>\n",
       "      <td>sao paulo</td>\n",
       "      <td>SP</td>\n",
       "      <td>housewares</td>\n",
       "    </tr>\n",
       "    <tr>\n",
       "      <th>1</th>\n",
       "      <td>53cdb2fc8bc7dce0b6741e2150273451</td>\n",
       "      <td>b0830fb4747a6c6d20dea0b8c802d7ef</td>\n",
       "      <td>delivered</td>\n",
       "      <td>2018-07-24 20:41:37</td>\n",
       "      <td>2018-08-07 15:27:45</td>\n",
       "      <td>2018-08-13 00:00:00</td>\n",
       "      <td>595fac2a385ac33a80bd5114aec74eb8</td>\n",
       "      <td>2018-07-30 03:24:27</td>\n",
       "      <td>118.70</td>\n",
       "      <td>22.76</td>\n",
       "      <td>barreiras</td>\n",
       "      <td>BA</td>\n",
       "      <td>perfumery</td>\n",
       "    </tr>\n",
       "    <tr>\n",
       "      <th>2</th>\n",
       "      <td>47770eb9100c2d0c44946d9cf07ec65d</td>\n",
       "      <td>41ce2a54c0b03bf3443c3d931a367089</td>\n",
       "      <td>delivered</td>\n",
       "      <td>2018-08-08 08:38:49</td>\n",
       "      <td>2018-08-17 18:06:29</td>\n",
       "      <td>2018-09-04 00:00:00</td>\n",
       "      <td>aa4383b373c6aca5d8797843e5594415</td>\n",
       "      <td>2018-08-13 08:55:23</td>\n",
       "      <td>159.90</td>\n",
       "      <td>19.22</td>\n",
       "      <td>vianopolis</td>\n",
       "      <td>GO</td>\n",
       "      <td>auto</td>\n",
       "    </tr>\n",
       "    <tr>\n",
       "      <th>3</th>\n",
       "      <td>949d5b44dbf5de918fe9c16f97b45f8a</td>\n",
       "      <td>f88197465ea7920adcdbec7375364d82</td>\n",
       "      <td>delivered</td>\n",
       "      <td>2017-11-18 19:28:06</td>\n",
       "      <td>2017-12-02 00:28:42</td>\n",
       "      <td>2017-12-15 00:00:00</td>\n",
       "      <td>d0b61bfb1de832b15ba9d266ca96e5b0</td>\n",
       "      <td>2017-11-23 19:45:59</td>\n",
       "      <td>45.00</td>\n",
       "      <td>27.20</td>\n",
       "      <td>sao goncalo do amarante</td>\n",
       "      <td>RN</td>\n",
       "      <td>pet_shop</td>\n",
       "    </tr>\n",
       "    <tr>\n",
       "      <th>4</th>\n",
       "      <td>ad21c59c0840e6cb83a9ceb5573f8159</td>\n",
       "      <td>8ab97904e6daea8866dbdbc4fb7aad2c</td>\n",
       "      <td>delivered</td>\n",
       "      <td>2018-02-13 21:18:39</td>\n",
       "      <td>2018-02-16 18:17:02</td>\n",
       "      <td>2018-02-26 00:00:00</td>\n",
       "      <td>65266b2da20d04dbe00c5c2d3bb7859e</td>\n",
       "      <td>2018-02-19 20:31:37</td>\n",
       "      <td>19.90</td>\n",
       "      <td>8.72</td>\n",
       "      <td>santo andre</td>\n",
       "      <td>SP</td>\n",
       "      <td>stationery</td>\n",
       "    </tr>\n",
       "  </tbody>\n",
       "</table>\n",
       "</div>"
      ],
      "text/plain": [
       "                           order_id                       customer_id  \\\n",
       "0  e481f51cbdc54678b7cc49136f2d6af7  9ef432eb6251297304e76186b10a928d   \n",
       "1  53cdb2fc8bc7dce0b6741e2150273451  b0830fb4747a6c6d20dea0b8c802d7ef   \n",
       "2  47770eb9100c2d0c44946d9cf07ec65d  41ce2a54c0b03bf3443c3d931a367089   \n",
       "3  949d5b44dbf5de918fe9c16f97b45f8a  f88197465ea7920adcdbec7375364d82   \n",
       "4  ad21c59c0840e6cb83a9ceb5573f8159  8ab97904e6daea8866dbdbc4fb7aad2c   \n",
       "\n",
       "  order_status order_purchase_timestamp order_delivered_customer_date  \\\n",
       "0    delivered      2017-10-02 10:56:33           2017-10-10 21:25:13   \n",
       "1    delivered      2018-07-24 20:41:37           2018-08-07 15:27:45   \n",
       "2    delivered      2018-08-08 08:38:49           2018-08-17 18:06:29   \n",
       "3    delivered      2017-11-18 19:28:06           2017-12-02 00:28:42   \n",
       "4    delivered      2018-02-13 21:18:39           2018-02-16 18:17:02   \n",
       "\n",
       "  order_estimated_delivery_date                        product_id  \\\n",
       "0           2017-10-18 00:00:00  87285b34884572647811a353c7ac498a   \n",
       "1           2018-08-13 00:00:00  595fac2a385ac33a80bd5114aec74eb8   \n",
       "2           2018-09-04 00:00:00  aa4383b373c6aca5d8797843e5594415   \n",
       "3           2017-12-15 00:00:00  d0b61bfb1de832b15ba9d266ca96e5b0   \n",
       "4           2018-02-26 00:00:00  65266b2da20d04dbe00c5c2d3bb7859e   \n",
       "\n",
       "   shipping_limit_date   price  freight_value            customer_city  \\\n",
       "0  2017-10-06 11:07:15   29.99           8.72                sao paulo   \n",
       "1  2018-07-30 03:24:27  118.70          22.76                barreiras   \n",
       "2  2018-08-13 08:55:23  159.90          19.22               vianopolis   \n",
       "3  2017-11-23 19:45:59   45.00          27.20  sao goncalo do amarante   \n",
       "4  2018-02-19 20:31:37   19.90           8.72              santo andre   \n",
       "\n",
       "  customer_state product_category_name_english  \n",
       "0             SP                    housewares  \n",
       "1             BA                     perfumery  \n",
       "2             GO                          auto  \n",
       "3             RN                      pet_shop  \n",
       "4             SP                    stationery  "
      ]
     },
     "execution_count": 63,
     "metadata": {},
     "output_type": "execute_result"
    }
   ],
   "source": [
    "# meggabungkan semua data menjadi satu dataset\n",
    "df_gabung = pd.merge(df_status, df_order, how='inner', on='order_id')\n",
    "df_gabung = pd.merge(df_gabung, df_product, how='left', on='product_id')\n",
    "df_gabung = pd.merge(df_gabung, df_customer, how='left', on='customer_id')\n",
    "df_gabung = pd.merge(df_gabung, df_product_english, how='left', on='product_category_name')\n",
    "df_gabung = df_gabung.drop('product_category_name', axis=1)\n",
    "print(df_gabung.shape)\n",
    "df_gabung.head()"
   ]
  },
  {
   "cell_type": "markdown",
   "metadata": {
    "id": "MMi6xGaDkbCi"
   },
   "source": [
    "**Insight:**\n",
    "- Dataset ini adalah data penjualan sebuah e-commerce di Brazil\n",
    "- Dataset dikumpulkan dari beberapa tabel data sesuai dengan yang dibutuhkan\n",
    "- Feature yang diambil hanya beberapa variabel yang mendukung analisis\n",
    "- Dataset yang sudah digabungkan diberi nama df_gabung"
   ]
  },
  {
   "cell_type": "markdown",
   "metadata": {
    "id": "FHSiqaZp8DC1"
   },
   "source": [
    "### Assessing Data"
   ]
  },
  {
   "cell_type": "code",
   "execution_count": 64,
   "metadata": {
    "id": "ax-3tEjc9Cj1"
   },
   "outputs": [
    {
     "name": "stdout",
     "output_type": "stream",
     "text": [
      "Jumlah missing value di setiap kolom:\n",
      "order_id                            0\n",
      "customer_id                         0\n",
      "order_status                        0\n",
      "order_purchase_timestamp            0\n",
      "order_delivered_customer_date    2454\n",
      "order_estimated_delivery_date       0\n",
      "product_id                          0\n",
      "shipping_limit_date                 0\n",
      "price                               0\n",
      "freight_value                       0\n",
      "customer_city                       0\n",
      "customer_state                      0\n",
      "product_category_name_english    1627\n",
      "dtype: int64\n",
      "\n",
      "Jumlah data duplikat:\n",
      "10225\n"
     ]
    }
   ],
   "source": [
    "#Melihat missing value\n",
    "print('Jumlah missing value di setiap kolom:')\n",
    "print(df_gabung.isnull().sum())\n",
    "print('')\n",
    "\n",
    "# melihat data duplikat\n",
    "print('Jumlah data duplikat:')\n",
    "print(df_gabung.duplicated().sum())"
   ]
  },
  {
   "cell_type": "code",
   "execution_count": 65,
   "metadata": {},
   "outputs": [
    {
     "name": "stdout",
     "output_type": "stream",
     "text": [
      "<class 'pandas.core.frame.DataFrame'>\n",
      "RangeIndex: 112650 entries, 0 to 112649\n",
      "Data columns (total 13 columns):\n",
      " #   Column                         Non-Null Count   Dtype  \n",
      "---  ------                         --------------   -----  \n",
      " 0   order_id                       112650 non-null  object \n",
      " 1   customer_id                    112650 non-null  object \n",
      " 2   order_status                   112650 non-null  object \n",
      " 3   order_purchase_timestamp       112650 non-null  object \n",
      " 4   order_delivered_customer_date  110196 non-null  object \n",
      " 5   order_estimated_delivery_date  112650 non-null  object \n",
      " 6   product_id                     112650 non-null  object \n",
      " 7   shipping_limit_date            112650 non-null  object \n",
      " 8   price                          112650 non-null  float64\n",
      " 9   freight_value                  112650 non-null  float64\n",
      " 10  customer_city                  112650 non-null  object \n",
      " 11  customer_state                 112650 non-null  object \n",
      " 12  product_category_name_english  111023 non-null  object \n",
      "dtypes: float64(2), object(11)\n",
      "memory usage: 11.2+ MB\n"
     ]
    }
   ],
   "source": [
    "# melihat tipe data\n",
    "df_gabung.info()"
   ]
  },
  {
   "cell_type": "code",
   "execution_count": 66,
   "metadata": {},
   "outputs": [
    {
     "data": {
      "text/html": [
       "<div>\n",
       "<style scoped>\n",
       "    .dataframe tbody tr th:only-of-type {\n",
       "        vertical-align: middle;\n",
       "    }\n",
       "\n",
       "    .dataframe tbody tr th {\n",
       "        vertical-align: top;\n",
       "    }\n",
       "\n",
       "    .dataframe thead th {\n",
       "        text-align: right;\n",
       "    }\n",
       "</style>\n",
       "<table border=\"1\" class=\"dataframe\">\n",
       "  <thead>\n",
       "    <tr style=\"text-align: right;\">\n",
       "      <th></th>\n",
       "      <th>order_id</th>\n",
       "      <th>customer_id</th>\n",
       "      <th>order_status</th>\n",
       "      <th>order_purchase_timestamp</th>\n",
       "      <th>order_delivered_customer_date</th>\n",
       "      <th>order_estimated_delivery_date</th>\n",
       "      <th>product_id</th>\n",
       "      <th>shipping_limit_date</th>\n",
       "      <th>price</th>\n",
       "      <th>freight_value</th>\n",
       "      <th>customer_city</th>\n",
       "      <th>customer_state</th>\n",
       "      <th>product_category_name_english</th>\n",
       "    </tr>\n",
       "  </thead>\n",
       "  <tbody>\n",
       "    <tr>\n",
       "      <th>count</th>\n",
       "      <td>112650</td>\n",
       "      <td>112650</td>\n",
       "      <td>112650</td>\n",
       "      <td>112650</td>\n",
       "      <td>110196</td>\n",
       "      <td>112650</td>\n",
       "      <td>112650</td>\n",
       "      <td>112650</td>\n",
       "      <td>112650.000000</td>\n",
       "      <td>112650.000000</td>\n",
       "      <td>112650</td>\n",
       "      <td>112650</td>\n",
       "      <td>111023</td>\n",
       "    </tr>\n",
       "    <tr>\n",
       "      <th>unique</th>\n",
       "      <td>98666</td>\n",
       "      <td>98666</td>\n",
       "      <td>7</td>\n",
       "      <td>98112</td>\n",
       "      <td>95664</td>\n",
       "      <td>450</td>\n",
       "      <td>32951</td>\n",
       "      <td>93318</td>\n",
       "      <td>NaN</td>\n",
       "      <td>NaN</td>\n",
       "      <td>4110</td>\n",
       "      <td>27</td>\n",
       "      <td>71</td>\n",
       "    </tr>\n",
       "    <tr>\n",
       "      <th>top</th>\n",
       "      <td>8272b63d03f5f79c56e9e4120aec44ef</td>\n",
       "      <td>fc3d1daec319d62d49bfb5e1f83123e9</td>\n",
       "      <td>delivered</td>\n",
       "      <td>2017-07-16 18:19:25</td>\n",
       "      <td>2017-07-31 18:03:02</td>\n",
       "      <td>2017-12-20 00:00:00</td>\n",
       "      <td>aca2eb7d00ea1a7b8ebd4e68314663af</td>\n",
       "      <td>2017-07-21 18:25:23</td>\n",
       "      <td>NaN</td>\n",
       "      <td>NaN</td>\n",
       "      <td>sao paulo</td>\n",
       "      <td>SP</td>\n",
       "      <td>bed_bath_table</td>\n",
       "    </tr>\n",
       "    <tr>\n",
       "      <th>freq</th>\n",
       "      <td>21</td>\n",
       "      <td>21</td>\n",
       "      <td>110197</td>\n",
       "      <td>21</td>\n",
       "      <td>21</td>\n",
       "      <td>604</td>\n",
       "      <td>527</td>\n",
       "      <td>21</td>\n",
       "      <td>NaN</td>\n",
       "      <td>NaN</td>\n",
       "      <td>17808</td>\n",
       "      <td>47449</td>\n",
       "      <td>11115</td>\n",
       "    </tr>\n",
       "    <tr>\n",
       "      <th>mean</th>\n",
       "      <td>NaN</td>\n",
       "      <td>NaN</td>\n",
       "      <td>NaN</td>\n",
       "      <td>NaN</td>\n",
       "      <td>NaN</td>\n",
       "      <td>NaN</td>\n",
       "      <td>NaN</td>\n",
       "      <td>NaN</td>\n",
       "      <td>120.653739</td>\n",
       "      <td>19.990320</td>\n",
       "      <td>NaN</td>\n",
       "      <td>NaN</td>\n",
       "      <td>NaN</td>\n",
       "    </tr>\n",
       "    <tr>\n",
       "      <th>std</th>\n",
       "      <td>NaN</td>\n",
       "      <td>NaN</td>\n",
       "      <td>NaN</td>\n",
       "      <td>NaN</td>\n",
       "      <td>NaN</td>\n",
       "      <td>NaN</td>\n",
       "      <td>NaN</td>\n",
       "      <td>NaN</td>\n",
       "      <td>183.633928</td>\n",
       "      <td>15.806405</td>\n",
       "      <td>NaN</td>\n",
       "      <td>NaN</td>\n",
       "      <td>NaN</td>\n",
       "    </tr>\n",
       "    <tr>\n",
       "      <th>min</th>\n",
       "      <td>NaN</td>\n",
       "      <td>NaN</td>\n",
       "      <td>NaN</td>\n",
       "      <td>NaN</td>\n",
       "      <td>NaN</td>\n",
       "      <td>NaN</td>\n",
       "      <td>NaN</td>\n",
       "      <td>NaN</td>\n",
       "      <td>0.850000</td>\n",
       "      <td>0.000000</td>\n",
       "      <td>NaN</td>\n",
       "      <td>NaN</td>\n",
       "      <td>NaN</td>\n",
       "    </tr>\n",
       "    <tr>\n",
       "      <th>25%</th>\n",
       "      <td>NaN</td>\n",
       "      <td>NaN</td>\n",
       "      <td>NaN</td>\n",
       "      <td>NaN</td>\n",
       "      <td>NaN</td>\n",
       "      <td>NaN</td>\n",
       "      <td>NaN</td>\n",
       "      <td>NaN</td>\n",
       "      <td>39.900000</td>\n",
       "      <td>13.080000</td>\n",
       "      <td>NaN</td>\n",
       "      <td>NaN</td>\n",
       "      <td>NaN</td>\n",
       "    </tr>\n",
       "    <tr>\n",
       "      <th>50%</th>\n",
       "      <td>NaN</td>\n",
       "      <td>NaN</td>\n",
       "      <td>NaN</td>\n",
       "      <td>NaN</td>\n",
       "      <td>NaN</td>\n",
       "      <td>NaN</td>\n",
       "      <td>NaN</td>\n",
       "      <td>NaN</td>\n",
       "      <td>74.990000</td>\n",
       "      <td>16.260000</td>\n",
       "      <td>NaN</td>\n",
       "      <td>NaN</td>\n",
       "      <td>NaN</td>\n",
       "    </tr>\n",
       "    <tr>\n",
       "      <th>75%</th>\n",
       "      <td>NaN</td>\n",
       "      <td>NaN</td>\n",
       "      <td>NaN</td>\n",
       "      <td>NaN</td>\n",
       "      <td>NaN</td>\n",
       "      <td>NaN</td>\n",
       "      <td>NaN</td>\n",
       "      <td>NaN</td>\n",
       "      <td>134.900000</td>\n",
       "      <td>21.150000</td>\n",
       "      <td>NaN</td>\n",
       "      <td>NaN</td>\n",
       "      <td>NaN</td>\n",
       "    </tr>\n",
       "    <tr>\n",
       "      <th>max</th>\n",
       "      <td>NaN</td>\n",
       "      <td>NaN</td>\n",
       "      <td>NaN</td>\n",
       "      <td>NaN</td>\n",
       "      <td>NaN</td>\n",
       "      <td>NaN</td>\n",
       "      <td>NaN</td>\n",
       "      <td>NaN</td>\n",
       "      <td>6735.000000</td>\n",
       "      <td>409.680000</td>\n",
       "      <td>NaN</td>\n",
       "      <td>NaN</td>\n",
       "      <td>NaN</td>\n",
       "    </tr>\n",
       "  </tbody>\n",
       "</table>\n",
       "</div>"
      ],
      "text/plain": [
       "                                order_id                       customer_id  \\\n",
       "count                             112650                            112650   \n",
       "unique                             98666                             98666   \n",
       "top     8272b63d03f5f79c56e9e4120aec44ef  fc3d1daec319d62d49bfb5e1f83123e9   \n",
       "freq                                  21                                21   \n",
       "mean                                 NaN                               NaN   \n",
       "std                                  NaN                               NaN   \n",
       "min                                  NaN                               NaN   \n",
       "25%                                  NaN                               NaN   \n",
       "50%                                  NaN                               NaN   \n",
       "75%                                  NaN                               NaN   \n",
       "max                                  NaN                               NaN   \n",
       "\n",
       "       order_status order_purchase_timestamp order_delivered_customer_date  \\\n",
       "count        112650                   112650                        110196   \n",
       "unique            7                    98112                         95664   \n",
       "top       delivered      2017-07-16 18:19:25           2017-07-31 18:03:02   \n",
       "freq         110197                       21                            21   \n",
       "mean            NaN                      NaN                           NaN   \n",
       "std             NaN                      NaN                           NaN   \n",
       "min             NaN                      NaN                           NaN   \n",
       "25%             NaN                      NaN                           NaN   \n",
       "50%             NaN                      NaN                           NaN   \n",
       "75%             NaN                      NaN                           NaN   \n",
       "max             NaN                      NaN                           NaN   \n",
       "\n",
       "       order_estimated_delivery_date                        product_id  \\\n",
       "count                         112650                            112650   \n",
       "unique                           450                             32951   \n",
       "top              2017-12-20 00:00:00  aca2eb7d00ea1a7b8ebd4e68314663af   \n",
       "freq                             604                               527   \n",
       "mean                             NaN                               NaN   \n",
       "std                              NaN                               NaN   \n",
       "min                              NaN                               NaN   \n",
       "25%                              NaN                               NaN   \n",
       "50%                              NaN                               NaN   \n",
       "75%                              NaN                               NaN   \n",
       "max                              NaN                               NaN   \n",
       "\n",
       "        shipping_limit_date          price  freight_value customer_city  \\\n",
       "count                112650  112650.000000  112650.000000        112650   \n",
       "unique                93318            NaN            NaN          4110   \n",
       "top     2017-07-21 18:25:23            NaN            NaN     sao paulo   \n",
       "freq                     21            NaN            NaN         17808   \n",
       "mean                    NaN     120.653739      19.990320           NaN   \n",
       "std                     NaN     183.633928      15.806405           NaN   \n",
       "min                     NaN       0.850000       0.000000           NaN   \n",
       "25%                     NaN      39.900000      13.080000           NaN   \n",
       "50%                     NaN      74.990000      16.260000           NaN   \n",
       "75%                     NaN     134.900000      21.150000           NaN   \n",
       "max                     NaN    6735.000000     409.680000           NaN   \n",
       "\n",
       "       customer_state product_category_name_english  \n",
       "count          112650                        111023  \n",
       "unique             27                            71  \n",
       "top                SP                bed_bath_table  \n",
       "freq            47449                         11115  \n",
       "mean              NaN                           NaN  \n",
       "std               NaN                           NaN  \n",
       "min               NaN                           NaN  \n",
       "25%               NaN                           NaN  \n",
       "50%               NaN                           NaN  \n",
       "75%               NaN                           NaN  \n",
       "max               NaN                           NaN  "
      ]
     },
     "execution_count": 66,
     "metadata": {},
     "output_type": "execute_result"
    }
   ],
   "source": [
    "# melihat statistika deskriptif pada data\n",
    "df_gabung.describe(include='all')"
   ]
  },
  {
   "cell_type": "markdown",
   "metadata": {
    "id": "7dtxhAPrkhPL"
   },
   "source": [
    "**Insight:**\n",
    "- Dari dataset gabungan terdapat data duplikat sebanyak 10225\n",
    "- Terdapat missing value pada kolom product_category_name sebanyak 1627 dan order_delivered_customer_date sebanyak 2454\n",
    "- Terdapat tipe data tanggal yang masih berupa object\n",
    "- Tidak terdapat nilai yang tidak konsisten"
   ]
  },
  {
   "cell_type": "markdown",
   "metadata": {
    "id": "EhN5R4hr8DC1"
   },
   "source": [
    "### Cleaning Data"
   ]
  },
  {
   "cell_type": "code",
   "execution_count": 67,
   "metadata": {
    "id": "jVnYpprE9Evz"
   },
   "outputs": [],
   "source": [
    "# menghapus duplikat data\n",
    "df_gabung = df_gabung.drop_duplicates()\n",
    "\n",
    "# merubah tipe data tanggal menjadi timestamp\n",
    "df_gabung['order_purchase_timestamp'] = pd.to_datetime(df_gabung['order_purchase_timestamp'])\n",
    "df_gabung['order_delivered_customer_date'] = pd.to_datetime(df_gabung['order_delivered_customer_date'])\n",
    "df_gabung['order_estimated_delivery_date'] = pd.to_datetime(df_gabung['order_estimated_delivery_date'])\n",
    "df_gabung['shipping_limit_date'] = pd.to_datetime(df_gabung['shipping_limit_date'])\n",
    "\n",
    "# Mengisi missing value order_delivered_customer_date dengan nilai dari kolom estimasi\n",
    "df_gabung['order_delivered_customer_date'] = df_gabung['order_delivered_customer_date'].fillna(df_gabung['order_estimated_delivery_date'])\n",
    "\n",
    "# menghapus data yang kosong\n",
    "df_gabung = df_gabung.dropna()"
   ]
  },
  {
   "cell_type": "code",
   "execution_count": 68,
   "metadata": {},
   "outputs": [
    {
     "name": "stdout",
     "output_type": "stream",
     "text": [
      "Jumlah missing value di setiap kolom:\n",
      "order_id                         0\n",
      "customer_id                      0\n",
      "order_status                     0\n",
      "order_purchase_timestamp         0\n",
      "order_delivered_customer_date    0\n",
      "order_estimated_delivery_date    0\n",
      "product_id                       0\n",
      "shipping_limit_date              0\n",
      "price                            0\n",
      "freight_value                    0\n",
      "customer_city                    0\n",
      "customer_state                   0\n",
      "product_category_name_english    0\n",
      "dtype: int64\n",
      "\n",
      "Jumlah data duplikat:\n",
      "0\n"
     ]
    }
   ],
   "source": [
    "# Cek missing value setelah dihapus\n",
    "print('Jumlah missing value di setiap kolom:')\n",
    "print(df_gabung.isnull().sum())\n",
    "print('')\n",
    "\n",
    "# Cek data duplikat setelah dihapus\n",
    "print('Jumlah data duplikat:')\n",
    "print(df_gabung.duplicated().sum())"
   ]
  },
  {
   "cell_type": "code",
   "execution_count": 69,
   "metadata": {},
   "outputs": [
    {
     "name": "stdout",
     "output_type": "stream",
     "text": [
      "<class 'pandas.core.frame.DataFrame'>\n",
      "Index: 100943 entries, 0 to 112649\n",
      "Data columns (total 13 columns):\n",
      " #   Column                         Non-Null Count   Dtype         \n",
      "---  ------                         --------------   -----         \n",
      " 0   order_id                       100943 non-null  object        \n",
      " 1   customer_id                    100943 non-null  object        \n",
      " 2   order_status                   100943 non-null  object        \n",
      " 3   order_purchase_timestamp       100943 non-null  datetime64[ns]\n",
      " 4   order_delivered_customer_date  100943 non-null  datetime64[ns]\n",
      " 5   order_estimated_delivery_date  100943 non-null  datetime64[ns]\n",
      " 6   product_id                     100943 non-null  object        \n",
      " 7   shipping_limit_date            100943 non-null  datetime64[ns]\n",
      " 8   price                          100943 non-null  float64       \n",
      " 9   freight_value                  100943 non-null  float64       \n",
      " 10  customer_city                  100943 non-null  object        \n",
      " 11  customer_state                 100943 non-null  object        \n",
      " 12  product_category_name_english  100943 non-null  object        \n",
      "dtypes: datetime64[ns](4), float64(2), object(7)\n",
      "memory usage: 10.8+ MB\n"
     ]
    }
   ],
   "source": [
    "# melihat tipe data setelah diganti\n",
    "df_gabung.info()"
   ]
  },
  {
   "cell_type": "code",
   "execution_count": 70,
   "metadata": {},
   "outputs": [
    {
     "data": {
      "text/html": [
       "<div>\n",
       "<style scoped>\n",
       "    .dataframe tbody tr th:only-of-type {\n",
       "        vertical-align: middle;\n",
       "    }\n",
       "\n",
       "    .dataframe tbody tr th {\n",
       "        vertical-align: top;\n",
       "    }\n",
       "\n",
       "    .dataframe thead th {\n",
       "        text-align: right;\n",
       "    }\n",
       "</style>\n",
       "<table border=\"1\" class=\"dataframe\">\n",
       "  <thead>\n",
       "    <tr style=\"text-align: right;\">\n",
       "      <th></th>\n",
       "      <th>order_id</th>\n",
       "      <th>customer_id</th>\n",
       "      <th>order_status</th>\n",
       "      <th>order_purchase_timestamp</th>\n",
       "      <th>order_delivered_customer_date</th>\n",
       "      <th>order_estimated_delivery_date</th>\n",
       "      <th>product_id</th>\n",
       "      <th>shipping_limit_date</th>\n",
       "      <th>price</th>\n",
       "      <th>freight_value</th>\n",
       "      <th>customer_city</th>\n",
       "      <th>customer_state</th>\n",
       "      <th>product_category_name_english</th>\n",
       "    </tr>\n",
       "  </thead>\n",
       "  <tbody>\n",
       "    <tr>\n",
       "      <th>0</th>\n",
       "      <td>e481f51cbdc54678b7cc49136f2d6af7</td>\n",
       "      <td>9ef432eb6251297304e76186b10a928d</td>\n",
       "      <td>delivered</td>\n",
       "      <td>2017-10-02 10:56:33</td>\n",
       "      <td>2017-10-10 21:25:13</td>\n",
       "      <td>2017-10-18</td>\n",
       "      <td>87285b34884572647811a353c7ac498a</td>\n",
       "      <td>2017-10-06 11:07:15</td>\n",
       "      <td>29.99</td>\n",
       "      <td>8.72</td>\n",
       "      <td>sao paulo</td>\n",
       "      <td>SP</td>\n",
       "      <td>housewares</td>\n",
       "    </tr>\n",
       "    <tr>\n",
       "      <th>1</th>\n",
       "      <td>53cdb2fc8bc7dce0b6741e2150273451</td>\n",
       "      <td>b0830fb4747a6c6d20dea0b8c802d7ef</td>\n",
       "      <td>delivered</td>\n",
       "      <td>2018-07-24 20:41:37</td>\n",
       "      <td>2018-08-07 15:27:45</td>\n",
       "      <td>2018-08-13</td>\n",
       "      <td>595fac2a385ac33a80bd5114aec74eb8</td>\n",
       "      <td>2018-07-30 03:24:27</td>\n",
       "      <td>118.70</td>\n",
       "      <td>22.76</td>\n",
       "      <td>barreiras</td>\n",
       "      <td>BA</td>\n",
       "      <td>perfumery</td>\n",
       "    </tr>\n",
       "    <tr>\n",
       "      <th>2</th>\n",
       "      <td>47770eb9100c2d0c44946d9cf07ec65d</td>\n",
       "      <td>41ce2a54c0b03bf3443c3d931a367089</td>\n",
       "      <td>delivered</td>\n",
       "      <td>2018-08-08 08:38:49</td>\n",
       "      <td>2018-08-17 18:06:29</td>\n",
       "      <td>2018-09-04</td>\n",
       "      <td>aa4383b373c6aca5d8797843e5594415</td>\n",
       "      <td>2018-08-13 08:55:23</td>\n",
       "      <td>159.90</td>\n",
       "      <td>19.22</td>\n",
       "      <td>vianopolis</td>\n",
       "      <td>GO</td>\n",
       "      <td>auto</td>\n",
       "    </tr>\n",
       "    <tr>\n",
       "      <th>3</th>\n",
       "      <td>949d5b44dbf5de918fe9c16f97b45f8a</td>\n",
       "      <td>f88197465ea7920adcdbec7375364d82</td>\n",
       "      <td>delivered</td>\n",
       "      <td>2017-11-18 19:28:06</td>\n",
       "      <td>2017-12-02 00:28:42</td>\n",
       "      <td>2017-12-15</td>\n",
       "      <td>d0b61bfb1de832b15ba9d266ca96e5b0</td>\n",
       "      <td>2017-11-23 19:45:59</td>\n",
       "      <td>45.00</td>\n",
       "      <td>27.20</td>\n",
       "      <td>sao goncalo do amarante</td>\n",
       "      <td>RN</td>\n",
       "      <td>pet_shop</td>\n",
       "    </tr>\n",
       "    <tr>\n",
       "      <th>4</th>\n",
       "      <td>ad21c59c0840e6cb83a9ceb5573f8159</td>\n",
       "      <td>8ab97904e6daea8866dbdbc4fb7aad2c</td>\n",
       "      <td>delivered</td>\n",
       "      <td>2018-02-13 21:18:39</td>\n",
       "      <td>2018-02-16 18:17:02</td>\n",
       "      <td>2018-02-26</td>\n",
       "      <td>65266b2da20d04dbe00c5c2d3bb7859e</td>\n",
       "      <td>2018-02-19 20:31:37</td>\n",
       "      <td>19.90</td>\n",
       "      <td>8.72</td>\n",
       "      <td>santo andre</td>\n",
       "      <td>SP</td>\n",
       "      <td>stationery</td>\n",
       "    </tr>\n",
       "  </tbody>\n",
       "</table>\n",
       "</div>"
      ],
      "text/plain": [
       "                           order_id                       customer_id  \\\n",
       "0  e481f51cbdc54678b7cc49136f2d6af7  9ef432eb6251297304e76186b10a928d   \n",
       "1  53cdb2fc8bc7dce0b6741e2150273451  b0830fb4747a6c6d20dea0b8c802d7ef   \n",
       "2  47770eb9100c2d0c44946d9cf07ec65d  41ce2a54c0b03bf3443c3d931a367089   \n",
       "3  949d5b44dbf5de918fe9c16f97b45f8a  f88197465ea7920adcdbec7375364d82   \n",
       "4  ad21c59c0840e6cb83a9ceb5573f8159  8ab97904e6daea8866dbdbc4fb7aad2c   \n",
       "\n",
       "  order_status order_purchase_timestamp order_delivered_customer_date  \\\n",
       "0    delivered      2017-10-02 10:56:33           2017-10-10 21:25:13   \n",
       "1    delivered      2018-07-24 20:41:37           2018-08-07 15:27:45   \n",
       "2    delivered      2018-08-08 08:38:49           2018-08-17 18:06:29   \n",
       "3    delivered      2017-11-18 19:28:06           2017-12-02 00:28:42   \n",
       "4    delivered      2018-02-13 21:18:39           2018-02-16 18:17:02   \n",
       "\n",
       "  order_estimated_delivery_date                        product_id  \\\n",
       "0                    2017-10-18  87285b34884572647811a353c7ac498a   \n",
       "1                    2018-08-13  595fac2a385ac33a80bd5114aec74eb8   \n",
       "2                    2018-09-04  aa4383b373c6aca5d8797843e5594415   \n",
       "3                    2017-12-15  d0b61bfb1de832b15ba9d266ca96e5b0   \n",
       "4                    2018-02-26  65266b2da20d04dbe00c5c2d3bb7859e   \n",
       "\n",
       "  shipping_limit_date   price  freight_value            customer_city  \\\n",
       "0 2017-10-06 11:07:15   29.99           8.72                sao paulo   \n",
       "1 2018-07-30 03:24:27  118.70          22.76                barreiras   \n",
       "2 2018-08-13 08:55:23  159.90          19.22               vianopolis   \n",
       "3 2017-11-23 19:45:59   45.00          27.20  sao goncalo do amarante   \n",
       "4 2018-02-19 20:31:37   19.90           8.72              santo andre   \n",
       "\n",
       "  customer_state product_category_name_english  \n",
       "0             SP                    housewares  \n",
       "1             BA                     perfumery  \n",
       "2             GO                          auto  \n",
       "3             RN                      pet_shop  \n",
       "4             SP                    stationery  "
      ]
     },
     "execution_count": 70,
     "metadata": {},
     "output_type": "execute_result"
    }
   ],
   "source": [
    "# preview dataset yang telah dibersihkan\n",
    "df_gabung.head()"
   ]
  },
  {
   "cell_type": "markdown",
   "metadata": {
    "id": "Q_5ejIqckiSP"
   },
   "source": [
    "**Insight:**\n",
    "- Jumlah baris pada dataset setelah dibersihkan menjadi 100.943\n",
    "- Tipe data tanggal telah diubah menjadi datetime"
   ]
  },
  {
   "cell_type": "markdown",
   "metadata": {
    "id": "gp-Y6wU38DC1"
   },
   "source": [
    "## Exploratory Data Analysis (EDA)"
   ]
  },
  {
   "attachments": {},
   "cell_type": "markdown",
   "metadata": {
    "id": "MW7WF2kr8DC1"
   },
   "source": [
    "### Explore ..."
   ]
  },
  {
   "cell_type": "markdown",
   "metadata": {},
   "source": [
    "#### Statistika Deskriptif"
   ]
  },
  {
   "cell_type": "code",
   "execution_count": 71,
   "metadata": {},
   "outputs": [
    {
     "data": {
      "text/html": [
       "<div>\n",
       "<style scoped>\n",
       "    .dataframe tbody tr th:only-of-type {\n",
       "        vertical-align: middle;\n",
       "    }\n",
       "\n",
       "    .dataframe tbody tr th {\n",
       "        vertical-align: top;\n",
       "    }\n",
       "\n",
       "    .dataframe thead th {\n",
       "        text-align: right;\n",
       "    }\n",
       "</style>\n",
       "<table border=\"1\" class=\"dataframe\">\n",
       "  <thead>\n",
       "    <tr style=\"text-align: right;\">\n",
       "      <th></th>\n",
       "      <th>order_purchase_timestamp</th>\n",
       "      <th>order_delivered_customer_date</th>\n",
       "      <th>order_estimated_delivery_date</th>\n",
       "      <th>shipping_limit_date</th>\n",
       "      <th>price</th>\n",
       "      <th>freight_value</th>\n",
       "    </tr>\n",
       "  </thead>\n",
       "  <tbody>\n",
       "    <tr>\n",
       "      <th>count</th>\n",
       "      <td>100943</td>\n",
       "      <td>100943</td>\n",
       "      <td>100943</td>\n",
       "      <td>100943</td>\n",
       "      <td>100943.000000</td>\n",
       "      <td>100943.000000</td>\n",
       "    </tr>\n",
       "    <tr>\n",
       "      <th>mean</th>\n",
       "      <td>2018-01-01 15:36:14.433086208</td>\n",
       "      <td>2018-01-14 10:05:58.683365888</td>\n",
       "      <td>2018-01-25 11:20:42.344689664</td>\n",
       "      <td>2018-01-08 06:03:40.065552128</td>\n",
       "      <td>124.510297</td>\n",
       "      <td>20.147033</td>\n",
       "    </tr>\n",
       "    <tr>\n",
       "      <th>min</th>\n",
       "      <td>2016-09-04 21:15:19</td>\n",
       "      <td>2016-10-11 13:46:32</td>\n",
       "      <td>2016-10-04 00:00:00</td>\n",
       "      <td>2016-09-19 00:15:34</td>\n",
       "      <td>0.850000</td>\n",
       "      <td>0.000000</td>\n",
       "    </tr>\n",
       "    <tr>\n",
       "      <th>25%</th>\n",
       "      <td>2017-09-13 16:59:28.500000</td>\n",
       "      <td>2017-09-25 19:21:19</td>\n",
       "      <td>2017-10-04 00:00:00</td>\n",
       "      <td>2017-09-20 17:55:29</td>\n",
       "      <td>40.360000</td>\n",
       "      <td>13.160000</td>\n",
       "    </tr>\n",
       "    <tr>\n",
       "      <th>50%</th>\n",
       "      <td>2018-01-20 17:38:58</td>\n",
       "      <td>2018-02-02 19:27:45</td>\n",
       "      <td>2018-02-16 00:00:00</td>\n",
       "      <td>2018-01-26 14:53:14</td>\n",
       "      <td>78.670000</td>\n",
       "      <td>16.350000</td>\n",
       "    </tr>\n",
       "    <tr>\n",
       "      <th>75%</th>\n",
       "      <td>2018-05-06 00:22:48.500000</td>\n",
       "      <td>2018-05-16 15:03:53.500000</td>\n",
       "      <td>2018-05-28 00:00:00</td>\n",
       "      <td>2018-05-11 09:14:02.500000</td>\n",
       "      <td>139.000000</td>\n",
       "      <td>21.260000</td>\n",
       "    </tr>\n",
       "    <tr>\n",
       "      <th>max</th>\n",
       "      <td>2018-09-03 09:06:57</td>\n",
       "      <td>2018-10-17 13:22:46</td>\n",
       "      <td>2018-10-25 00:00:00</td>\n",
       "      <td>2020-04-09 22:35:08</td>\n",
       "      <td>6735.000000</td>\n",
       "      <td>409.680000</td>\n",
       "    </tr>\n",
       "    <tr>\n",
       "      <th>std</th>\n",
       "      <td>NaN</td>\n",
       "      <td>NaN</td>\n",
       "      <td>NaN</td>\n",
       "      <td>NaN</td>\n",
       "      <td>188.622344</td>\n",
       "      <td>15.919582</td>\n",
       "    </tr>\n",
       "  </tbody>\n",
       "</table>\n",
       "</div>"
      ],
      "text/plain": [
       "            order_purchase_timestamp  order_delivered_customer_date  \\\n",
       "count                         100943                         100943   \n",
       "mean   2018-01-01 15:36:14.433086208  2018-01-14 10:05:58.683365888   \n",
       "min              2016-09-04 21:15:19            2016-10-11 13:46:32   \n",
       "25%       2017-09-13 16:59:28.500000            2017-09-25 19:21:19   \n",
       "50%              2018-01-20 17:38:58            2018-02-02 19:27:45   \n",
       "75%       2018-05-06 00:22:48.500000     2018-05-16 15:03:53.500000   \n",
       "max              2018-09-03 09:06:57            2018-10-17 13:22:46   \n",
       "std                              NaN                            NaN   \n",
       "\n",
       "       order_estimated_delivery_date            shipping_limit_date  \\\n",
       "count                         100943                         100943   \n",
       "mean   2018-01-25 11:20:42.344689664  2018-01-08 06:03:40.065552128   \n",
       "min              2016-10-04 00:00:00            2016-09-19 00:15:34   \n",
       "25%              2017-10-04 00:00:00            2017-09-20 17:55:29   \n",
       "50%              2018-02-16 00:00:00            2018-01-26 14:53:14   \n",
       "75%              2018-05-28 00:00:00     2018-05-11 09:14:02.500000   \n",
       "max              2018-10-25 00:00:00            2020-04-09 22:35:08   \n",
       "std                              NaN                            NaN   \n",
       "\n",
       "               price  freight_value  \n",
       "count  100943.000000  100943.000000  \n",
       "mean      124.510297      20.147033  \n",
       "min         0.850000       0.000000  \n",
       "25%        40.360000      13.160000  \n",
       "50%        78.670000      16.350000  \n",
       "75%       139.000000      21.260000  \n",
       "max      6735.000000     409.680000  \n",
       "std       188.622344      15.919582  "
      ]
     },
     "execution_count": 71,
     "metadata": {},
     "output_type": "execute_result"
    }
   ],
   "source": [
    "# statistika descriptive untuk numerik\n",
    "df_gabung.describe()"
   ]
  },
  {
   "cell_type": "code",
   "execution_count": 72,
   "metadata": {},
   "outputs": [
    {
     "data": {
      "text/html": [
       "<div>\n",
       "<style scoped>\n",
       "    .dataframe tbody tr th:only-of-type {\n",
       "        vertical-align: middle;\n",
       "    }\n",
       "\n",
       "    .dataframe tbody tr th {\n",
       "        vertical-align: top;\n",
       "    }\n",
       "\n",
       "    .dataframe thead th {\n",
       "        text-align: right;\n",
       "    }\n",
       "</style>\n",
       "<table border=\"1\" class=\"dataframe\">\n",
       "  <thead>\n",
       "    <tr style=\"text-align: right;\">\n",
       "      <th></th>\n",
       "      <th>order_id</th>\n",
       "      <th>customer_id</th>\n",
       "      <th>order_status</th>\n",
       "      <th>product_id</th>\n",
       "      <th>customer_city</th>\n",
       "      <th>customer_state</th>\n",
       "      <th>product_category_name_english</th>\n",
       "    </tr>\n",
       "  </thead>\n",
       "  <tbody>\n",
       "    <tr>\n",
       "      <th>count</th>\n",
       "      <td>100943</td>\n",
       "      <td>100943</td>\n",
       "      <td>100943</td>\n",
       "      <td>100943</td>\n",
       "      <td>100943</td>\n",
       "      <td>100943</td>\n",
       "      <td>100943</td>\n",
       "    </tr>\n",
       "    <tr>\n",
       "      <th>unique</th>\n",
       "      <td>97256</td>\n",
       "      <td>97256</td>\n",
       "      <td>7</td>\n",
       "      <td>32328</td>\n",
       "      <td>4095</td>\n",
       "      <td>27</td>\n",
       "      <td>71</td>\n",
       "    </tr>\n",
       "    <tr>\n",
       "      <th>top</th>\n",
       "      <td>ca3625898fbd48669d50701aba51cd5f</td>\n",
       "      <td>0d861a5e4dd6a9079d89e1330848f0ab</td>\n",
       "      <td>delivered</td>\n",
       "      <td>99a4788cb24856965c36a24e339b6058</td>\n",
       "      <td>sao paulo</td>\n",
       "      <td>SP</td>\n",
       "      <td>bed_bath_table</td>\n",
       "    </tr>\n",
       "    <tr>\n",
       "      <th>freq</th>\n",
       "      <td>8</td>\n",
       "      <td>8</td>\n",
       "      <td>98775</td>\n",
       "      <td>467</td>\n",
       "      <td>15812</td>\n",
       "      <td>42446</td>\n",
       "      <td>10160</td>\n",
       "    </tr>\n",
       "  </tbody>\n",
       "</table>\n",
       "</div>"
      ],
      "text/plain": [
       "                                order_id                       customer_id  \\\n",
       "count                             100943                            100943   \n",
       "unique                             97256                             97256   \n",
       "top     ca3625898fbd48669d50701aba51cd5f  0d861a5e4dd6a9079d89e1330848f0ab   \n",
       "freq                                   8                                 8   \n",
       "\n",
       "       order_status                        product_id customer_city  \\\n",
       "count        100943                            100943        100943   \n",
       "unique            7                             32328          4095   \n",
       "top       delivered  99a4788cb24856965c36a24e339b6058     sao paulo   \n",
       "freq          98775                               467         15812   \n",
       "\n",
       "       customer_state product_category_name_english  \n",
       "count          100943                        100943  \n",
       "unique             27                            71  \n",
       "top                SP                bed_bath_table  \n",
       "freq            42446                         10160  "
      ]
     },
     "execution_count": 72,
     "metadata": {},
     "output_type": "execute_result"
    }
   ],
   "source": [
    "# statistika descriptive untuk non-numerik\n",
    "df_gabung.describe(include='O')"
   ]
  },
  {
   "cell_type": "markdown",
   "metadata": {},
   "source": [
    "#### Preview Data Penjualan"
   ]
  },
  {
   "cell_type": "code",
   "execution_count": 73,
   "metadata": {
    "id": "e9CQCZjk8DC2"
   },
   "outputs": [
    {
     "name": "stdout",
     "output_type": "stream",
     "text": [
      "Jumlah Transaksi : 100943\n",
      "Total Penjualan : 12483209.610000001\n",
      "Pelanggan : 97256\n",
      "Negara Bagian : 27\n",
      "Kota : 4095\n",
      "Kategori Produk : 71\n"
     ]
    }
   ],
   "source": [
    "# preview data\n",
    "transaksi = df_gabung['order_id'].shape[0]\n",
    "sales = df_gabung[(df_gabung['order_status']!='canceled') & (df_gabung['order_status']!='unavailable')]['price'].sum()\n",
    "customer = df_gabung['customer_id'].nunique()\n",
    "state = df_gabung['customer_state'].nunique()\n",
    "city = df_gabung['customer_city'].nunique()\n",
    "produk = df_gabung['product_category_name_english'].nunique()\n",
    "print(f'Jumlah Transaksi : {transaksi}')\n",
    "print(f'Total Penjualan : {sales}')\n",
    "print(f'Pelanggan : {customer}')\n",
    "print(f'Negara Bagian : {state}')\n",
    "print(f'Kota : {city}')\n",
    "print(f'Kategori Produk : {produk}')"
   ]
  },
  {
   "cell_type": "markdown",
   "metadata": {},
   "source": [
    "#### Distribusi Status Penjualan"
   ]
  },
  {
   "cell_type": "code",
   "execution_count": 74,
   "metadata": {},
   "outputs": [
    {
     "data": {
      "text/plain": [
       "order_status\n",
       "delivered      98775\n",
       "shipped         1103\n",
       "canceled         449\n",
       "invoiced         314\n",
       "processing       293\n",
       "unavailable        7\n",
       "approved           2\n",
       "Name: count, dtype: int64"
      ]
     },
     "execution_count": 74,
     "metadata": {},
     "output_type": "execute_result"
    }
   ],
   "source": [
    "df_gabung['order_status'].value_counts()"
   ]
  },
  {
   "cell_type": "markdown",
   "metadata": {},
   "source": [
    "#### Bagaimana Trend Penjualan Per Bulannya?"
   ]
  },
  {
   "cell_type": "code",
   "execution_count": 75,
   "metadata": {},
   "outputs": [
    {
     "name": "stdout",
     "output_type": "stream",
     "text": [
      "Jumlah penjualan per bulan :\n"
     ]
    },
    {
     "data": {
      "text/plain": [
       "month_year\n",
       "2016-09-01       117.88\n",
       "2016-10-01     41404.77\n",
       "2016-12-01        10.90\n",
       "2017-01-01    108779.16\n",
       "2017-02-01    223373.37\n",
       "2017-03-01    341861.82\n",
       "2017-04-01    325669.54\n",
       "2017-05-01    464196.18\n",
       "2017-06-01    407480.07\n",
       "2017-07-01    459496.93\n",
       "2017-08-01    527186.82\n",
       "2017-09-01    564290.23\n",
       "2017-10-01    595977.11\n",
       "2017-11-01    916957.19\n",
       "2017-12-01    690183.07\n",
       "2018-01-01    867099.99\n",
       "2018-02-01    766737.89\n",
       "2018-03-01    902100.01\n",
       "2018-04-01    928377.67\n",
       "2018-05-01    920181.68\n",
       "2018-06-01    805932.49\n",
       "2018-07-01    819153.00\n",
       "2018-08-01    806496.84\n",
       "2018-09-01       145.00\n",
       "Name: price, dtype: float64"
      ]
     },
     "execution_count": 75,
     "metadata": {},
     "output_type": "execute_result"
    }
   ],
   "source": [
    "df_gabung['month_year'] = df_gabung['order_purchase_timestamp'].dt.to_period('M').dt.to_timestamp()\n",
    "df_nocancel = df_gabung[(df_gabung['order_status']!='canceled') & (df_gabung['order_status']!='unavailable')]\n",
    "\n",
    "print('Jumlah penjualan per bulan :')\n",
    "df_nocancel.groupby('month_year')['price'].sum()"
   ]
  },
  {
   "cell_type": "markdown",
   "metadata": {},
   "source": [
    "#### Kota Apa yang Memiliki Penjualan Terbesar?"
   ]
  },
  {
   "cell_type": "code",
   "execution_count": 76,
   "metadata": {},
   "outputs": [
    {
     "data": {
      "text/plain": [
       "customer_city\n",
       "sao paulo         1744948.91\n",
       "rio de janeiro     901550.92\n",
       "belo horizonte     326691.04\n",
       "brasilia           283774.49\n",
       "curitiba           190442.19\n",
       "campinas           173790.76\n",
       "porto alegre       167350.85\n",
       "salvador           162918.37\n",
       "guarulhos          131370.74\n",
       "niteroi            109289.36\n",
       "Name: price, dtype: float64"
      ]
     },
     "execution_count": 76,
     "metadata": {},
     "output_type": "execute_result"
    }
   ],
   "source": [
    "df_nocancel.groupby('customer_city')['price'].sum().sort_values(ascending=False).head(10)"
   ]
  },
  {
   "cell_type": "markdown",
   "metadata": {},
   "source": [
    "#### Siapa pelanggan yang Memiliki Pembelian Terbesar?"
   ]
  },
  {
   "cell_type": "code",
   "execution_count": 77,
   "metadata": {},
   "outputs": [
    {
     "data": {
      "text/plain": [
       "customer_id\n",
       "c6e2731c5b391845f6800c97401a43a9    6735.00\n",
       "f48d464a0baaea338cb25f816991ab1f    6729.00\n",
       "3fd6777bbce08a352fddd04e4a7cc8f6    6499.00\n",
       "df55c14d1476a9a3467f131269c2477f    4799.00\n",
       "24bbf5fd2f2e1b359ee7de94defc4a15    4690.00\n",
       "3d979689f636322c62418b6346b1c6d2    4590.00\n",
       "cc803a2c412833101651d3f90ca7de24    4400.00\n",
       "1afc82cd60e303ef09b4ef9837c9505c    4399.87\n",
       "35a413c7ca3c69756cb75867d6311c0d    4099.99\n",
       "e9b0d0eb3015ef1c9ce6cf5b9dcbee9f    4059.00\n",
       "Name: price, dtype: float64"
      ]
     },
     "execution_count": 77,
     "metadata": {},
     "output_type": "execute_result"
    }
   ],
   "source": [
    "df_nocancel.groupby('customer_id')['price'].sum().sort_values(ascending=False).head(10)"
   ]
  },
  {
   "cell_type": "markdown",
   "metadata": {},
   "source": [
    "#### Kategori Produk Apa yang Memiliki Penjualan Terbesar?"
   ]
  },
  {
   "cell_type": "code",
   "execution_count": 78,
   "metadata": {},
   "outputs": [
    {
     "data": {
      "text/plain": [
       "product_category_name_english\n",
       "health_beauty            1209163.71\n",
       "watches_gifts            1180771.49\n",
       "bed_bath_table            962495.27\n",
       "sports_leisure            921555.59\n",
       "computers_accessories     800063.22\n",
       "furniture_decor           631090.01\n",
       "cool_stuff                609411.33\n",
       "housewares                568795.72\n",
       "auto                      558054.38\n",
       "toys                      470880.84\n",
       "Name: price, dtype: float64"
      ]
     },
     "execution_count": 78,
     "metadata": {},
     "output_type": "execute_result"
    }
   ],
   "source": [
    "df_nocancel.groupby('product_category_name_english')['price'].sum().sort_values(ascending=False).head(10)"
   ]
  },
  {
   "cell_type": "markdown",
   "metadata": {
    "id": "zsyZjqak8DC2"
   },
   "source": [
    "## Visualization & Explanatory Analysis"
   ]
  },
  {
   "cell_type": "markdown",
   "metadata": {},
   "source": [
    "### Distribusi Status Penjualan"
   ]
  },
  {
   "cell_type": "code",
   "execution_count": 79,
   "metadata": {},
   "outputs": [
    {
     "data": {
      "image/png": "[encoded data removed]",
      "text/plain": [
       "<Figure size 640x480 with 1 Axes>"
      ]
     },
     "metadata": {},
     "output_type": "display_data"
    }
   ],
   "source": [
    "df_gabung['order_status'].value_counts().plot(kind='bar', color='#1da2d0')\n",
    "plt.title('Distribusi Status Penjualan Keseluruhan');"
   ]
  },
  {
   "cell_type": "markdown",
   "metadata": {},
   "source": [
    "#### Bagaimana Trend Penjualan Per Bulannya?"
   ]
  },
  {
   "cell_type": "code",
   "execution_count": 80,
   "metadata": {},
   "outputs": [
    {
     "data": {
      "text/plain": [
       "Text(0.5, 1.0, 'Trend Penjualan Per Bulan')"
      ]
     },
     "execution_count": 80,
     "metadata": {},
     "output_type": "execute_result"
    },
    {
     "data": {
      "image/png": "[encoded data removed]",
      "text/plain": [
       "<Figure size 640x480 with 1 Axes>"
      ]
     },
     "metadata": {},
     "output_type": "display_data"
    }
   ],
   "source": [
    "df_gabung['month_year'] = df_gabung['order_purchase_timestamp'].dt.to_period('M').dt.to_timestamp()\n",
    "df_nocancel = df_gabung[(df_gabung['order_status']!='canceled') & (df_gabung['order_status']!='unavailable')]\n",
    "\n",
    "df_nocancel[df_nocancel['month_year'] < '2018-09-01'].groupby('month_year')['price'].sum().plot(color='#1da2d0')\n",
    "plt.title('Trend Penjualan Per Bulan')"
   ]
  },
  {
   "cell_type": "markdown",
   "metadata": {},
   "source": [
    "Penjualan memiliki trend peningkatan, namun pada semester I 2018 penjualan sedikit mengalami perlambatan."
   ]
  },
  {
   "cell_type": "code",
   "execution_count": 81,
   "metadata": {},
   "outputs": [
    {
     "data": {
      "image/png": "[encoded data removed]",
      "text/plain": [
       "<Figure size 640x480 with 1 Axes>"
      ]
     },
     "metadata": {},
     "output_type": "display_data"
    }
   ],
   "source": [
    "df_gabung[df_gabung['order_status']=='canceled'].groupby('month_year')['price'].sum().plot(color='#1da2d0')\n",
    "plt.title('Trend Pembatalan Penjualan Per Bulan');"
   ]
  },
  {
   "cell_type": "markdown",
   "metadata": {},
   "source": [
    "Pembatalan pesanan mengalami peningkatan di 2018, kemungkinan ini menjadi salah satu alasan total penjualan mengalami perlambatan."
   ]
  },
  {
   "cell_type": "markdown",
   "metadata": {},
   "source": [
    "#### Bagaimana hubungan lama pemrosesan barang dengan pembatalan pesanan?"
   ]
  },
  {
   "cell_type": "code",
   "execution_count": 82,
   "metadata": {},
   "outputs": [
    {
     "data": {
      "image/png": "[encoded data removed]",
      "text/plain": [
       "<Figure size 640x480 with 1 Axes>"
      ]
     },
     "metadata": {},
     "output_type": "display_data"
    }
   ],
   "source": [
    "df_gabung['lama_pemrosesan'] = (df_gabung['order_delivered_customer_date'] - df_gabung['order_purchase_timestamp']).dt.days\n",
    "df_ccldlv = df_gabung[(df_gabung['order_status']=='canceled') | (df_gabung['order_status']=='delivered')]\n",
    "palette = {'canceled': 'orange', 'delivered': '#1da2d0'}\n",
    "sns.violinplot(x='order_status', y='lama_pemrosesan', data=df_ccldlv, palette=palette)\n",
    "plt.title('Waktu Proses vs Status pesanan')\n",
    "plt.show()"
   ]
  },
  {
   "cell_type": "markdown",
   "metadata": {},
   "source": [
    "Waktu pemrosesan pesanan yang lebih lama membuat pelanggan cenderung melakukan pembatalan."
   ]
  },
  {
   "cell_type": "markdown",
   "metadata": {},
   "source": [
    "#### Negara Bagian Apa yang Memiliki Penjualan Terbesar?"
   ]
  },
  {
   "cell_type": "code",
   "execution_count": 83,
   "metadata": {},
   "outputs": [
    {
     "data": {
      "image/png": "[encoded data removed]",
      "text/plain": [
       "<Figure size 640x480 with 1 Axes>"
      ]
     },
     "metadata": {},
     "output_type": "display_data"
    }
   ],
   "source": [
    "# Menghitung total penjualan per negara bagian\n",
    "sales = df_nocancel.groupby('customer_state')['price'].sum().sort_values(ascending=False)\n",
    "\n",
    "# Menentukan warna, dengan warna orange untuk penjualan terbesar\n",
    "colors = ['orange' if i == sales.max() else '#1da2d0' for i in sales]\n",
    "\n",
    "sales.plot(kind='bar', color=colors)\n",
    "plt.title('Urutan Negara Bagian dengan Penjualan Terbesar')\n",
    "plt.ylabel('');"
   ]
  },
  {
   "cell_type": "markdown",
   "metadata": {},
   "source": [
    "Penjualan terbesar E-Commerce berada di negara bagian São Paulo. São Paulo merupakan negara bagian terpadat dan pusat ekonomi terbesar di Brasil, sekaligus salah satu metropolitan terbesar di dunia."
   ]
  },
  {
   "cell_type": "markdown",
   "metadata": {},
   "source": [
    "#### Kota Apa yang Memiliki Penjualan Terbesar?"
   ]
  },
  {
   "cell_type": "code",
   "execution_count": 84,
   "metadata": {},
   "outputs": [
    {
     "data": {
      "image/png": "[encoded data removed]",
      "text/plain": [
       "<Figure size 640x480 with 1 Axes>"
      ]
     },
     "metadata": {},
     "output_type": "display_data"
    }
   ],
   "source": [
    "city_sales = df_nocancel.groupby('customer_city')['price'].sum().sort_values().tail(10)\n",
    "colors2 = ['orange' if i in city_sales.nlargest(2).values else '#1da2d0' for i in city_sales]\n",
    "city_sales.plot(kind='barh', color=colors2)\n",
    "plt.title('10 Kota dengan Penjualan Terbesar')\n",
    "plt.ylabel('');"
   ]
  },
  {
   "cell_type": "markdown",
   "metadata": {},
   "source": [
    "Ibukotanya São Paulo yaitu kota São Paulo menjadi pusat penjualan terbesar, diikuti Rio De Janeiro di posisi kedua."
   ]
  },
  {
   "cell_type": "markdown",
   "metadata": {},
   "source": [
    "#### Siapa pelanggan yang Memiliki Pembelian Terbesar?"
   ]
  },
  {
   "cell_type": "code",
   "execution_count": 85,
   "metadata": {},
   "outputs": [
    {
     "data": {
      "image/png": "[encoded data removed]",
      "text/plain": [
       "<Figure size 640x480 with 1 Axes>"
      ]
     },
     "metadata": {},
     "output_type": "display_data"
    }
   ],
   "source": [
    "cust_sales = df_nocancel.groupby('customer_id')['price'].sum().sort_values().tail(10)\n",
    "colors3 = ['orange' if i in cust_sales.nlargest(3).values else '#1da2d0' for i in cust_sales]\n",
    "cust_sales.plot(kind='barh', color=colors3)\n",
    "plt.title('Top 10 Pelanggan (id_pelanggan)\\ndengan Kontribusi Penjualan Terbesar');"
   ]
  },
  {
   "cell_type": "markdown",
   "metadata": {},
   "source": [
    "#### Kategori Produk Apa yang Memiliki Penjualan Terbesar?"
   ]
  },
  {
   "cell_type": "code",
   "execution_count": 86,
   "metadata": {},
   "outputs": [
    {
     "data": {
      "image/png": "[encoded data removed]",
      "text/plain": [
       "<Figure size 640x480 with 1 Axes>"
      ]
     },
     "metadata": {},
     "output_type": "display_data"
    }
   ],
   "source": [
    "prod_sales = df_nocancel.groupby('product_category_name_english')['price'].sum().sort_values().tail(10)\n",
    "colors2 = ['orange' if i in prod_sales.nlargest(2).values else '#1da2d0' for i in prod_sales]\n",
    "prod_sales.plot(kind='barh', color=colors2)\n",
    "plt.title('Top 10 Kategori Produk\\nPaling Besar Memberikan Revenue');"
   ]
  },
  {
   "cell_type": "markdown",
   "metadata": {},
   "source": [
    "Produk kecantikan dan aksesoris menjadi kategori yang paling menyumbang revenue terbesar"
   ]
  },
  {
   "cell_type": "markdown",
   "metadata": {
    "id": "_0-36BDLklRg"
   },
   "source": [
    "**Insight:**\n",
    "- Penjualan mengalami trend kenaikan namun terjadi perlambatan pada semester I 2018\n",
    "- Salah satu alasan terjadinya perlambatan adalah karena tingginya pembatalan pesanan pada tahun 2018\n",
    "- Lamanya pemrosesan barang cenderung membuat pelanggan melakukan pembatalan pesanan\n",
    "- Pusat ekonomi seperti Sao Paulo dan Rio De Janeiro menjadi daerah yang menyumbang revenue terbesar"
   ]
  },
  {
   "cell_type": "markdown",
   "metadata": {
    "id": "9y4VUsmcYNZ5"
   },
   "source": [
    "## Analisis RFM Menggunakan K-Means Cluster"
   ]
  },
  {
   "cell_type": "markdown",
   "metadata": {},
   "source": [
    "Segmentasi RFM (Recency, Frequency, Monetary) adalah metode untuk mengelompokkan pelanggan berdasarkan:\n",
    "\n",
    "- **Recency (R)**: Seberapa baru pelanggan melakukan pembelian terakhir.\n",
    "- **Frequency (F)**: Seberapa sering pelanggan melakukan pembelian.\n",
    "- **Monetary (M)**: Total jumlah uang yang dihabiskan pelanggan.\n",
    "\n",
    "Dalam pembuatan segmentasi ini juga digunakan model machine learning **K-Means**,  K-Means adalah algoritma clustering yang digunakan untuk mengelompokkan data ke dalam beberapa grup (cluster) berdasarkan kemiripan antar data."
   ]
  },
  {
   "cell_type": "code",
   "execution_count": 87,
   "metadata": {},
   "outputs": [],
   "source": [
    "# membuat salinan dataset\n",
    "ss_clean = df_gabung.copy()"
   ]
  },
  {
   "cell_type": "code",
   "execution_count": 88,
   "metadata": {
    "id": "iWhnzsJGYUCO"
   },
   "outputs": [
    {
     "data": {
      "text/plain": [
       "Timestamp('2018-09-03 09:06:57')"
      ]
     },
     "execution_count": 88,
     "metadata": {},
     "output_type": "execute_result"
    }
   ],
   "source": [
    "# menentukan tanggal order paling terbaru\n",
    "latest_date = ss_clean['order_purchase_timestamp'].max()\n",
    "latest_date"
   ]
  },
  {
   "cell_type": "code",
   "execution_count": 89,
   "metadata": {},
   "outputs": [],
   "source": [
    "# menghitung recency\n",
    "recency = ss_clean.groupby('customer_id').agg({'order_purchase_timestamp': lambda x : (latest_date - x.max()).days}).reset_index()\n",
    "recency.rename(columns= {'order_purchase_timestamp':'Recency'}, inplace= True)\n",
    "\n",
    "# menghitung frequency\n",
    "frequency = ss_clean.groupby('customer_id').size().reset_index(name='Frequency')\n",
    "\n",
    "# menghitung monetary\n",
    "monetary = ss_clean.groupby('customer_id').agg({'price':'sum'}).reset_index()\n",
    "monetary.rename(columns= {'price':'Monetary'}, inplace= True)"
   ]
  },
  {
   "cell_type": "code",
   "execution_count": 90,
   "metadata": {},
   "outputs": [
    {
     "data": {
      "text/html": [
       "<div>\n",
       "<style scoped>\n",
       "    .dataframe tbody tr th:only-of-type {\n",
       "        vertical-align: middle;\n",
       "    }\n",
       "\n",
       "    .dataframe tbody tr th {\n",
       "        vertical-align: top;\n",
       "    }\n",
       "\n",
       "    .dataframe thead th {\n",
       "        text-align: right;\n",
       "    }\n",
       "</style>\n",
       "<table border=\"1\" class=\"dataframe\">\n",
       "  <thead>\n",
       "    <tr style=\"text-align: right;\">\n",
       "      <th></th>\n",
       "      <th>customer_id</th>\n",
       "      <th>Recency</th>\n",
       "      <th>Frequency</th>\n",
       "      <th>Monetary</th>\n",
       "    </tr>\n",
       "  </thead>\n",
       "  <tbody>\n",
       "    <tr>\n",
       "      <th>0</th>\n",
       "      <td>00012a2ce6f8dcda20d059ce98491703</td>\n",
       "      <td>292</td>\n",
       "      <td>1</td>\n",
       "      <td>89.80</td>\n",
       "    </tr>\n",
       "    <tr>\n",
       "      <th>1</th>\n",
       "      <td>000161a058600d5901f007fab4c27140</td>\n",
       "      <td>413</td>\n",
       "      <td>1</td>\n",
       "      <td>54.90</td>\n",
       "    </tr>\n",
       "    <tr>\n",
       "      <th>2</th>\n",
       "      <td>0001fd6190edaaf884bcaf3d49edf079</td>\n",
       "      <td>551</td>\n",
       "      <td>1</td>\n",
       "      <td>179.99</td>\n",
       "    </tr>\n",
       "    <tr>\n",
       "      <th>3</th>\n",
       "      <td>0002414f95344307404f0ace7a26f1d5</td>\n",
       "      <td>382</td>\n",
       "      <td>1</td>\n",
       "      <td>149.90</td>\n",
       "    </tr>\n",
       "    <tr>\n",
       "      <th>4</th>\n",
       "      <td>000379cdec625522490c315e70c7a9fb</td>\n",
       "      <td>153</td>\n",
       "      <td>1</td>\n",
       "      <td>93.00</td>\n",
       "    </tr>\n",
       "    <tr>\n",
       "      <th>...</th>\n",
       "      <td>...</td>\n",
       "      <td>...</td>\n",
       "      <td>...</td>\n",
       "      <td>...</td>\n",
       "    </tr>\n",
       "    <tr>\n",
       "      <th>97251</th>\n",
       "      <td>fffcb937e9dd47a13f05ecb8290f4d3e</td>\n",
       "      <td>170</td>\n",
       "      <td>1</td>\n",
       "      <td>78.00</td>\n",
       "    </tr>\n",
       "    <tr>\n",
       "      <th>97252</th>\n",
       "      <td>fffecc9f79fd8c764f843e9951b11341</td>\n",
       "      <td>157</td>\n",
       "      <td>1</td>\n",
       "      <td>54.90</td>\n",
       "    </tr>\n",
       "    <tr>\n",
       "      <th>97253</th>\n",
       "      <td>fffeda5b6d849fbd39689bb92087f431</td>\n",
       "      <td>103</td>\n",
       "      <td>1</td>\n",
       "      <td>47.90</td>\n",
       "    </tr>\n",
       "    <tr>\n",
       "      <th>97254</th>\n",
       "      <td>ffff42319e9b2d713724ae527742af25</td>\n",
       "      <td>81</td>\n",
       "      <td>1</td>\n",
       "      <td>199.90</td>\n",
       "    </tr>\n",
       "    <tr>\n",
       "      <th>97255</th>\n",
       "      <td>ffffa3172527f765de70084a7e53aae8</td>\n",
       "      <td>365</td>\n",
       "      <td>1</td>\n",
       "      <td>10.90</td>\n",
       "    </tr>\n",
       "  </tbody>\n",
       "</table>\n",
       "<p>97256 rows × 4 columns</p>\n",
       "</div>"
      ],
      "text/plain": [
       "                            customer_id  Recency  Frequency  Monetary\n",
       "0      00012a2ce6f8dcda20d059ce98491703      292          1     89.80\n",
       "1      000161a058600d5901f007fab4c27140      413          1     54.90\n",
       "2      0001fd6190edaaf884bcaf3d49edf079      551          1    179.99\n",
       "3      0002414f95344307404f0ace7a26f1d5      382          1    149.90\n",
       "4      000379cdec625522490c315e70c7a9fb      153          1     93.00\n",
       "...                                 ...      ...        ...       ...\n",
       "97251  fffcb937e9dd47a13f05ecb8290f4d3e      170          1     78.00\n",
       "97252  fffecc9f79fd8c764f843e9951b11341      157          1     54.90\n",
       "97253  fffeda5b6d849fbd39689bb92087f431      103          1     47.90\n",
       "97254  ffff42319e9b2d713724ae527742af25       81          1    199.90\n",
       "97255  ffffa3172527f765de70084a7e53aae8      365          1     10.90\n",
       "\n",
       "[97256 rows x 4 columns]"
      ]
     },
     "execution_count": 90,
     "metadata": {},
     "output_type": "execute_result"
    }
   ],
   "source": [
    "# menggabungkan data menjadi 1 dataset\n",
    "RFM = pd.concat([recency.iloc[:,:], frequency.iloc[:,-1], monetary.iloc[:,-1]], axis= 1)\n",
    "RFM"
   ]
  },
  {
   "cell_type": "code",
   "execution_count": 91,
   "metadata": {},
   "outputs": [
    {
     "data": {
      "text/html": [
       "<style type=\"text/css\">\n",
       "#T_42f54_row0_col0, #T_42f54_row0_col1, #T_42f54_row0_col2 {\n",
       "  background-color: #49006a;\n",
       "  color: #f1f1f1;\n",
       "}\n",
       "#T_42f54_row1_col0, #T_42f54_row1_col1, #T_42f54_row1_col2, #T_42f54_row2_col0, #T_42f54_row2_col1, #T_42f54_row2_col2, #T_42f54_row3_col0, #T_42f54_row3_col1, #T_42f54_row3_col2, #T_42f54_row4_col0, #T_42f54_row4_col1, #T_42f54_row4_col2, #T_42f54_row5_col0, #T_42f54_row5_col1, #T_42f54_row5_col2, #T_42f54_row6_col0, #T_42f54_row6_col1, #T_42f54_row6_col2, #T_42f54_row7_col1 {\n",
       "  background-color: #fff7f3;\n",
       "  color: #000000;\n",
       "}\n",
       "#T_42f54_row7_col0 {\n",
       "  background-color: #fff6f2;\n",
       "  color: #000000;\n",
       "}\n",
       "#T_42f54_row7_col2 {\n",
       "  background-color: #feebe7;\n",
       "  color: #000000;\n",
       "}\n",
       "</style>\n",
       "<table id=\"T_42f54\">\n",
       "  <thead>\n",
       "    <tr>\n",
       "      <th class=\"blank level0\" >&nbsp;</th>\n",
       "      <th id=\"T_42f54_level0_col0\" class=\"col_heading level0 col0\" >Recency</th>\n",
       "      <th id=\"T_42f54_level0_col1\" class=\"col_heading level0 col1\" >Frequency</th>\n",
       "      <th id=\"T_42f54_level0_col2\" class=\"col_heading level0 col2\" >Monetary</th>\n",
       "    </tr>\n",
       "  </thead>\n",
       "  <tbody>\n",
       "    <tr>\n",
       "      <th id=\"T_42f54_level0_row0\" class=\"row_heading level0 row0\" >count</th>\n",
       "      <td id=\"T_42f54_row0_col0\" class=\"data row0 col0\" >97256.000000</td>\n",
       "      <td id=\"T_42f54_row0_col1\" class=\"data row0 col1\" >97256.000000</td>\n",
       "      <td id=\"T_42f54_row0_col2\" class=\"data row0 col2\" >97256.000000</td>\n",
       "    </tr>\n",
       "    <tr>\n",
       "      <th id=\"T_42f54_level0_row1\" class=\"row_heading level0 row1\" >mean</th>\n",
       "      <td id=\"T_42f54_row1_col0\" class=\"data row1 col0\" >244.098462</td>\n",
       "      <td id=\"T_42f54_row1_col1\" class=\"data row1 col1\" >1.037910</td>\n",
       "      <td id=\"T_42f54_row1_col2\" class=\"data row1 col2\" >129.230514</td>\n",
       "    </tr>\n",
       "    <tr>\n",
       "      <th id=\"T_42f54_level0_row2\" class=\"row_heading level0 row2\" >std</th>\n",
       "      <td id=\"T_42f54_row2_col0\" class=\"data row2 col0\" >153.396859</td>\n",
       "      <td id=\"T_42f54_row2_col1\" class=\"data row2 col1\" >0.225860</td>\n",
       "      <td id=\"T_42f54_row2_col2\" class=\"data row2 col2\" >193.357312</td>\n",
       "    </tr>\n",
       "    <tr>\n",
       "      <th id=\"T_42f54_level0_row3\" class=\"row_heading level0 row3\" >min</th>\n",
       "      <td id=\"T_42f54_row3_col0\" class=\"data row3 col0\" >0.000000</td>\n",
       "      <td id=\"T_42f54_row3_col1\" class=\"data row3 col1\" >1.000000</td>\n",
       "      <td id=\"T_42f54_row3_col2\" class=\"data row3 col2\" >0.850000</td>\n",
       "    </tr>\n",
       "    <tr>\n",
       "      <th id=\"T_42f54_level0_row4\" class=\"row_heading level0 row4\" >25%</th>\n",
       "      <td id=\"T_42f54_row4_col0\" class=\"data row4 col0\" >120.000000</td>\n",
       "      <td id=\"T_42f54_row4_col1\" class=\"data row4 col1\" >1.000000</td>\n",
       "      <td id=\"T_42f54_row4_col2\" class=\"data row4 col2\" >43.900000</td>\n",
       "    </tr>\n",
       "    <tr>\n",
       "      <th id=\"T_42f54_level0_row5\" class=\"row_heading level0 row5\" >50%</th>\n",
       "      <td id=\"T_42f54_row5_col0\" class=\"data row5 col0\" >225.000000</td>\n",
       "      <td id=\"T_42f54_row5_col1\" class=\"data row5 col1\" >1.000000</td>\n",
       "      <td id=\"T_42f54_row5_col2\" class=\"data row5 col2\" >79.900000</td>\n",
       "    </tr>\n",
       "    <tr>\n",
       "      <th id=\"T_42f54_level0_row6\" class=\"row_heading level0 row6\" >75%</th>\n",
       "      <td id=\"T_42f54_row6_col0\" class=\"data row6 col0\" >354.000000</td>\n",
       "      <td id=\"T_42f54_row6_col1\" class=\"data row6 col1\" >1.000000</td>\n",
       "      <td id=\"T_42f54_row6_col2\" class=\"data row6 col2\" >144.900000</td>\n",
       "    </tr>\n",
       "    <tr>\n",
       "      <th id=\"T_42f54_level0_row7\" class=\"row_heading level0 row7\" >max</th>\n",
       "      <td id=\"T_42f54_row7_col0\" class=\"data row7 col0\" >728.000000</td>\n",
       "      <td id=\"T_42f54_row7_col1\" class=\"data row7 col1\" >8.000000</td>\n",
       "      <td id=\"T_42f54_row7_col2\" class=\"data row7 col2\" >6735.000000</td>\n",
       "    </tr>\n",
       "  </tbody>\n",
       "</table>\n"
      ],
      "text/plain": [
       "<pandas.io.formats.style.Styler at 0x24d213c4590>"
      ]
     },
     "execution_count": 91,
     "metadata": {},
     "output_type": "execute_result"
    }
   ],
   "source": [
    "# statistika deskriptif RFM\n",
    "RFM.describe().style.background_gradient(subset=['Recency','Frequency','Monetary'], cmap='RdPu')"
   ]
  },
  {
   "cell_type": "code",
   "execution_count": 92,
   "metadata": {},
   "outputs": [
    {
     "data": {
      "image/png": "[encoded data removed]",
      "text/plain": [
       "<Figure size 1200x300 with 3 Axes>"
      ]
     },
     "metadata": {},
     "output_type": "display_data"
    }
   ],
   "source": [
    "# melihat persebaran data pada tiap variabel\n",
    "fig, axis = plt.subplots(1,3, figsize= (12,3))\n",
    "\n",
    "for i,feature in enumerate(['Recency', 'Frequency', 'Monetary']):\n",
    "    sns.histplot(x= RFM[feature], ax= axis[i], color= '#1da2d0')\n",
    "\n",
    "plt.tight_layout()\n",
    "plt.show()"
   ]
  },
  {
   "cell_type": "markdown",
   "metadata": {},
   "source": [
    "Terlihat bahwa monetary dan frequency memiliki outlier, namun saya akan tetap mempertahankan data frequency karena menunjukan variasi data, sedangkan monetary memiliki outlier yang sangat jauh, sehingga saya akan membuangnya."
   ]
  },
  {
   "cell_type": "code",
   "execution_count": 93,
   "metadata": {},
   "outputs": [
    {
     "data": {
      "text/html": [
       "<div>\n",
       "<style scoped>\n",
       "    .dataframe tbody tr th:only-of-type {\n",
       "        vertical-align: middle;\n",
       "    }\n",
       "\n",
       "    .dataframe tbody tr th {\n",
       "        vertical-align: top;\n",
       "    }\n",
       "\n",
       "    .dataframe thead th {\n",
       "        text-align: right;\n",
       "    }\n",
       "</style>\n",
       "<table border=\"1\" class=\"dataframe\">\n",
       "  <thead>\n",
       "    <tr style=\"text-align: right;\">\n",
       "      <th></th>\n",
       "      <th>customer_id</th>\n",
       "      <th>Recency</th>\n",
       "      <th>Frequency</th>\n",
       "      <th>Monetary</th>\n",
       "    </tr>\n",
       "  </thead>\n",
       "  <tbody>\n",
       "    <tr>\n",
       "      <th>0</th>\n",
       "      <td>00012a2ce6f8dcda20d059ce98491703</td>\n",
       "      <td>292</td>\n",
       "      <td>1</td>\n",
       "      <td>89.80</td>\n",
       "    </tr>\n",
       "    <tr>\n",
       "      <th>1</th>\n",
       "      <td>000161a058600d5901f007fab4c27140</td>\n",
       "      <td>413</td>\n",
       "      <td>1</td>\n",
       "      <td>54.90</td>\n",
       "    </tr>\n",
       "    <tr>\n",
       "      <th>2</th>\n",
       "      <td>0001fd6190edaaf884bcaf3d49edf079</td>\n",
       "      <td>551</td>\n",
       "      <td>1</td>\n",
       "      <td>179.99</td>\n",
       "    </tr>\n",
       "    <tr>\n",
       "      <th>3</th>\n",
       "      <td>0002414f95344307404f0ace7a26f1d5</td>\n",
       "      <td>382</td>\n",
       "      <td>1</td>\n",
       "      <td>149.90</td>\n",
       "    </tr>\n",
       "    <tr>\n",
       "      <th>4</th>\n",
       "      <td>000379cdec625522490c315e70c7a9fb</td>\n",
       "      <td>153</td>\n",
       "      <td>1</td>\n",
       "      <td>93.00</td>\n",
       "    </tr>\n",
       "    <tr>\n",
       "      <th>...</th>\n",
       "      <td>...</td>\n",
       "      <td>...</td>\n",
       "      <td>...</td>\n",
       "      <td>...</td>\n",
       "    </tr>\n",
       "    <tr>\n",
       "      <th>97251</th>\n",
       "      <td>fffcb937e9dd47a13f05ecb8290f4d3e</td>\n",
       "      <td>170</td>\n",
       "      <td>1</td>\n",
       "      <td>78.00</td>\n",
       "    </tr>\n",
       "    <tr>\n",
       "      <th>97252</th>\n",
       "      <td>fffecc9f79fd8c764f843e9951b11341</td>\n",
       "      <td>157</td>\n",
       "      <td>1</td>\n",
       "      <td>54.90</td>\n",
       "    </tr>\n",
       "    <tr>\n",
       "      <th>97253</th>\n",
       "      <td>fffeda5b6d849fbd39689bb92087f431</td>\n",
       "      <td>103</td>\n",
       "      <td>1</td>\n",
       "      <td>47.90</td>\n",
       "    </tr>\n",
       "    <tr>\n",
       "      <th>97254</th>\n",
       "      <td>ffff42319e9b2d713724ae527742af25</td>\n",
       "      <td>81</td>\n",
       "      <td>1</td>\n",
       "      <td>199.90</td>\n",
       "    </tr>\n",
       "    <tr>\n",
       "      <th>97255</th>\n",
       "      <td>ffffa3172527f765de70084a7e53aae8</td>\n",
       "      <td>365</td>\n",
       "      <td>1</td>\n",
       "      <td>10.90</td>\n",
       "    </tr>\n",
       "  </tbody>\n",
       "</table>\n",
       "<p>89690 rows × 4 columns</p>\n",
       "</div>"
      ],
      "text/plain": [
       "                            customer_id  Recency  Frequency  Monetary\n",
       "0      00012a2ce6f8dcda20d059ce98491703      292          1     89.80\n",
       "1      000161a058600d5901f007fab4c27140      413          1     54.90\n",
       "2      0001fd6190edaaf884bcaf3d49edf079      551          1    179.99\n",
       "3      0002414f95344307404f0ace7a26f1d5      382          1    149.90\n",
       "4      000379cdec625522490c315e70c7a9fb      153          1     93.00\n",
       "...                                 ...      ...        ...       ...\n",
       "97251  fffcb937e9dd47a13f05ecb8290f4d3e      170          1     78.00\n",
       "97252  fffecc9f79fd8c764f843e9951b11341      157          1     54.90\n",
       "97253  fffeda5b6d849fbd39689bb92087f431      103          1     47.90\n",
       "97254  ffff42319e9b2d713724ae527742af25       81          1    199.90\n",
       "97255  ffffa3172527f765de70084a7e53aae8      365          1     10.90\n",
       "\n",
       "[89690 rows x 4 columns]"
      ]
     },
     "execution_count": 93,
     "metadata": {},
     "output_type": "execute_result"
    }
   ],
   "source": [
    "# membuang outlier data monetary\n",
    "Q1 = RFM['Monetary'].quantile(0.25)\n",
    "Q3 = RFM['Monetary'].quantile(0.75)\n",
    "IQR = Q3 - Q1\n",
    "\n",
    "# Menentukan batas bawah dan atas\n",
    "lower_bound = Q1 - 1.5 * IQR\n",
    "upper_bound = Q3 + 1.5 * IQR\n",
    "\n",
    "# Menghapus outlier\n",
    "rfm_clean = RFM[(RFM['Monetary'] >= lower_bound) & (RFM['Monetary'] <= upper_bound)]\n",
    "\n",
    "# Menampilkan data tanpa outlier\n",
    "rfm_clean"
   ]
  },
  {
   "cell_type": "markdown",
   "metadata": {},
   "source": [
    "dataset kini tinggal 89690 baris"
   ]
  },
  {
   "cell_type": "code",
   "execution_count": 94,
   "metadata": {},
   "outputs": [
    {
     "data": {
      "image/png": "[encoded data removed]",
      "text/plain": [
       "<Figure size 1200x300 with 3 Axes>"
      ]
     },
     "metadata": {},
     "output_type": "display_data"
    }
   ],
   "source": [
    "fig, axis = plt.subplots(1,3, figsize= (12,3))\n",
    "\n",
    "for i,feature in enumerate(['Recency', 'Frequency', 'Monetary']):\n",
    "    sns.histplot(x= rfm_clean[feature], ax= axis[i], color= '#1da2d0')\n",
    "\n",
    "plt.tight_layout()\n",
    "plt.show()"
   ]
  },
  {
   "cell_type": "markdown",
   "metadata": {},
   "source": [
    "Persebaran data sudah cukup baik"
   ]
  },
  {
   "cell_type": "code",
   "execution_count": 95,
   "metadata": {},
   "outputs": [
    {
     "data": {
      "text/html": [
       "<div>\n",
       "<style scoped>\n",
       "    .dataframe tbody tr th:only-of-type {\n",
       "        vertical-align: middle;\n",
       "    }\n",
       "\n",
       "    .dataframe tbody tr th {\n",
       "        vertical-align: top;\n",
       "    }\n",
       "\n",
       "    .dataframe thead th {\n",
       "        text-align: right;\n",
       "    }\n",
       "</style>\n",
       "<table border=\"1\" class=\"dataframe\">\n",
       "  <thead>\n",
       "    <tr style=\"text-align: right;\">\n",
       "      <th></th>\n",
       "      <th>Recency</th>\n",
       "      <th>Frequency</th>\n",
       "      <th>Monetary</th>\n",
       "    </tr>\n",
       "  </thead>\n",
       "  <tbody>\n",
       "    <tr>\n",
       "      <th>0</th>\n",
       "      <td>0.314896</td>\n",
       "      <td>-0.164922</td>\n",
       "      <td>0.005555</td>\n",
       "    </tr>\n",
       "    <tr>\n",
       "      <th>1</th>\n",
       "      <td>1.105365</td>\n",
       "      <td>-0.164922</td>\n",
       "      <td>-0.553939</td>\n",
       "    </tr>\n",
       "    <tr>\n",
       "      <th>2</th>\n",
       "      <td>2.006890</td>\n",
       "      <td>-0.164922</td>\n",
       "      <td>1.451421</td>\n",
       "    </tr>\n",
       "    <tr>\n",
       "      <th>3</th>\n",
       "      <td>0.902848</td>\n",
       "      <td>-0.164922</td>\n",
       "      <td>0.969038</td>\n",
       "    </tr>\n",
       "    <tr>\n",
       "      <th>4</th>\n",
       "      <td>-0.593163</td>\n",
       "      <td>-0.164922</td>\n",
       "      <td>0.056855</td>\n",
       "    </tr>\n",
       "  </tbody>\n",
       "</table>\n",
       "</div>"
      ],
      "text/plain": [
       "    Recency  Frequency  Monetary\n",
       "0  0.314896  -0.164922  0.005555\n",
       "1  1.105365  -0.164922 -0.553939\n",
       "2  2.006890  -0.164922  1.451421\n",
       "3  0.902848  -0.164922  0.969038\n",
       "4 -0.593163  -0.164922  0.056855"
      ]
     },
     "execution_count": 95,
     "metadata": {},
     "output_type": "execute_result"
    }
   ],
   "source": [
    "# melakukan standarisasi data menggunakan Standard Scaler\n",
    "sc = StandardScaler()\n",
    "rfm_clean = rfm_clean.drop('customer_id', axis=1)\n",
    "rfm_trans = sc.fit_transform(rfm_clean)\n",
    "rfm_trans = pd.DataFrame(rfm_trans,columns=rfm_clean.columns)\n",
    "rfm_trans.head()"
   ]
  },
  {
   "cell_type": "code",
   "execution_count": 96,
   "metadata": {},
   "outputs": [
    {
     "data": {
      "image/png": "[encoded data removed]",
      "text/plain": [
       "<Figure size 500x400 with 1 Axes>"
      ]
     },
     "metadata": {},
     "output_type": "display_data"
    }
   ],
   "source": [
    "# membuat kurva elbow untuk menentukan jumlah klaster terbaik\n",
    "plt.figure(figsize=(5,4))\n",
    "distortions = []\n",
    "\n",
    "for i  in range(1,11):\n",
    "    km = KMeans(n_clusters=i,\n",
    "                init='k-means++',\n",
    "                n_init=10,\n",
    "                max_iter=300,\n",
    "                random_state=0)\n",
    "    km.fit(rfm_trans)\n",
    "    distortions.append(km.inertia_)\n",
    "\n",
    "plt.plot(range(1,11),distortions,color='#1da2d0', marker='D', markerfacecolor='#1da2d0')\n",
    "plt.xlabel('Number of clusters')\n",
    "plt.ylabel('Distortion')\n",
    "plt.title('Elbow Curve')\n",
    "plt.show()"
   ]
  },
  {
   "cell_type": "markdown",
   "metadata": {},
   "source": [
    "Melihat dari grafik, jumlah klaster yang terbaik adalah berjumlah 4."
   ]
  },
  {
   "cell_type": "code",
   "execution_count": 97,
   "metadata": {},
   "outputs": [],
   "source": [
    "km = KMeans(n_clusters=4,\n",
    "                init='k-means++',\n",
    "                n_init=10,\n",
    "                max_iter=300,\n",
    "                random_state=0)"
   ]
  },
  {
   "cell_type": "code",
   "execution_count": 98,
   "metadata": {},
   "outputs": [],
   "source": [
    "clusters = km.fit(rfm_trans)\n",
    "labels = km.labels_"
   ]
  },
  {
   "cell_type": "code",
   "execution_count": 99,
   "metadata": {},
   "outputs": [
    {
     "data": {
      "text/html": [
       "<div>\n",
       "<style scoped>\n",
       "    .dataframe tbody tr th:only-of-type {\n",
       "        vertical-align: middle;\n",
       "    }\n",
       "\n",
       "    .dataframe tbody tr th {\n",
       "        vertical-align: top;\n",
       "    }\n",
       "\n",
       "    .dataframe thead th {\n",
       "        text-align: right;\n",
       "    }\n",
       "</style>\n",
       "<table border=\"1\" class=\"dataframe\">\n",
       "  <thead>\n",
       "    <tr style=\"text-align: right;\">\n",
       "      <th></th>\n",
       "      <th>Recency</th>\n",
       "      <th>Frequency</th>\n",
       "      <th>Monetary</th>\n",
       "      <th>Clusters</th>\n",
       "    </tr>\n",
       "  </thead>\n",
       "  <tbody>\n",
       "    <tr>\n",
       "      <th>0</th>\n",
       "      <td>292</td>\n",
       "      <td>1</td>\n",
       "      <td>89.80</td>\n",
       "      <td>1</td>\n",
       "    </tr>\n",
       "    <tr>\n",
       "      <th>1</th>\n",
       "      <td>413</td>\n",
       "      <td>1</td>\n",
       "      <td>54.90</td>\n",
       "      <td>1</td>\n",
       "    </tr>\n",
       "    <tr>\n",
       "      <th>2</th>\n",
       "      <td>551</td>\n",
       "      <td>1</td>\n",
       "      <td>179.99</td>\n",
       "      <td>1</td>\n",
       "    </tr>\n",
       "    <tr>\n",
       "      <th>3</th>\n",
       "      <td>382</td>\n",
       "      <td>1</td>\n",
       "      <td>149.90</td>\n",
       "      <td>0</td>\n",
       "    </tr>\n",
       "    <tr>\n",
       "      <th>4</th>\n",
       "      <td>153</td>\n",
       "      <td>1</td>\n",
       "      <td>93.00</td>\n",
       "      <td>2</td>\n",
       "    </tr>\n",
       "    <tr>\n",
       "      <th>...</th>\n",
       "      <td>...</td>\n",
       "      <td>...</td>\n",
       "      <td>...</td>\n",
       "      <td>...</td>\n",
       "    </tr>\n",
       "    <tr>\n",
       "      <th>97251</th>\n",
       "      <td>170</td>\n",
       "      <td>1</td>\n",
       "      <td>78.00</td>\n",
       "      <td>2</td>\n",
       "    </tr>\n",
       "    <tr>\n",
       "      <th>97252</th>\n",
       "      <td>157</td>\n",
       "      <td>1</td>\n",
       "      <td>54.90</td>\n",
       "      <td>2</td>\n",
       "    </tr>\n",
       "    <tr>\n",
       "      <th>97253</th>\n",
       "      <td>103</td>\n",
       "      <td>1</td>\n",
       "      <td>47.90</td>\n",
       "      <td>2</td>\n",
       "    </tr>\n",
       "    <tr>\n",
       "      <th>97254</th>\n",
       "      <td>81</td>\n",
       "      <td>1</td>\n",
       "      <td>199.90</td>\n",
       "      <td>0</td>\n",
       "    </tr>\n",
       "    <tr>\n",
       "      <th>97255</th>\n",
       "      <td>365</td>\n",
       "      <td>1</td>\n",
       "      <td>10.90</td>\n",
       "      <td>1</td>\n",
       "    </tr>\n",
       "  </tbody>\n",
       "</table>\n",
       "<p>89690 rows × 4 columns</p>\n",
       "</div>"
      ],
      "text/plain": [
       "       Recency  Frequency  Monetary  Clusters\n",
       "0          292          1     89.80         1\n",
       "1          413          1     54.90         1\n",
       "2          551          1    179.99         1\n",
       "3          382          1    149.90         0\n",
       "4          153          1     93.00         2\n",
       "...        ...        ...       ...       ...\n",
       "97251      170          1     78.00         2\n",
       "97252      157          1     54.90         2\n",
       "97253      103          1     47.90         2\n",
       "97254       81          1    199.90         0\n",
       "97255      365          1     10.90         1\n",
       "\n",
       "[89690 rows x 4 columns]"
      ]
     },
     "execution_count": 99,
     "metadata": {},
     "output_type": "execute_result"
    }
   ],
   "source": [
    "rfm_clean['Clusters'] = labels\n",
    "rfm_clean"
   ]
  },
  {
   "cell_type": "code",
   "execution_count": 100,
   "metadata": {},
   "outputs": [
    {
     "data": {
      "image/png": "[encoded data removed]",
      "text/plain": [
       "<Figure size 640x480 with 1 Axes>"
      ]
     },
     "metadata": {},
     "output_type": "display_data"
    }
   ],
   "source": [
    "# Komposisi segemntasi pelanggan\n",
    "rfm_clean['Clusters'].value_counts().plot(kind='pie', autopct=('%.1f%%'))\n",
    "plt.title('Customer by Cluster')\n",
    "plt.ylabel('');"
   ]
  },
  {
   "cell_type": "code",
   "execution_count": 101,
   "metadata": {},
   "outputs": [
    {
     "data": {
      "text/html": [
       "<div>\n",
       "<style scoped>\n",
       "    .dataframe tbody tr th:only-of-type {\n",
       "        vertical-align: middle;\n",
       "    }\n",
       "\n",
       "    .dataframe tbody tr th {\n",
       "        vertical-align: top;\n",
       "    }\n",
       "\n",
       "    .dataframe thead tr th {\n",
       "        text-align: left;\n",
       "    }\n",
       "\n",
       "    .dataframe thead tr:last-of-type th {\n",
       "        text-align: right;\n",
       "    }\n",
       "</style>\n",
       "<table border=\"1\" class=\"dataframe\">\n",
       "  <thead>\n",
       "    <tr>\n",
       "      <th></th>\n",
       "      <th colspan=\"3\" halign=\"left\">Recency</th>\n",
       "      <th colspan=\"3\" halign=\"left\">Frequency</th>\n",
       "      <th colspan=\"3\" halign=\"left\">Monetary</th>\n",
       "    </tr>\n",
       "    <tr>\n",
       "      <th></th>\n",
       "      <th>count</th>\n",
       "      <th>mean</th>\n",
       "      <th>median</th>\n",
       "      <th>count</th>\n",
       "      <th>mean</th>\n",
       "      <th>median</th>\n",
       "      <th>count</th>\n",
       "      <th>mean</th>\n",
       "      <th>median</th>\n",
       "    </tr>\n",
       "    <tr>\n",
       "      <th>Clusters</th>\n",
       "      <th></th>\n",
       "      <th></th>\n",
       "      <th></th>\n",
       "      <th></th>\n",
       "      <th></th>\n",
       "      <th></th>\n",
       "      <th></th>\n",
       "      <th></th>\n",
       "      <th></th>\n",
       "    </tr>\n",
       "  </thead>\n",
       "  <tbody>\n",
       "    <tr>\n",
       "      <th>0</th>\n",
       "      <td>18747</td>\n",
       "      <td>228.609271</td>\n",
       "      <td>220.0</td>\n",
       "      <td>18747</td>\n",
       "      <td>1.000000</td>\n",
       "      <td>1.0</td>\n",
       "      <td>18747</td>\n",
       "      <td>183.189687</td>\n",
       "      <td>175.90</td>\n",
       "    </tr>\n",
       "    <tr>\n",
       "      <th>1</th>\n",
       "      <td>29195</td>\n",
       "      <td>403.116835</td>\n",
       "      <td>394.0</td>\n",
       "      <td>29195</td>\n",
       "      <td>1.000000</td>\n",
       "      <td>1.0</td>\n",
       "      <td>29195</td>\n",
       "      <td>63.892136</td>\n",
       "      <td>59.00</td>\n",
       "    </tr>\n",
       "    <tr>\n",
       "      <th>2</th>\n",
       "      <td>39025</td>\n",
       "      <td>131.855093</td>\n",
       "      <td>132.0</td>\n",
       "      <td>39025</td>\n",
       "      <td>1.000000</td>\n",
       "      <td>1.0</td>\n",
       "      <td>39025</td>\n",
       "      <td>60.601899</td>\n",
       "      <td>55.00</td>\n",
       "    </tr>\n",
       "    <tr>\n",
       "      <th>3</th>\n",
       "      <td>2723</td>\n",
       "      <td>244.521484</td>\n",
       "      <td>229.0</td>\n",
       "      <td>2723</td>\n",
       "      <td>2.133309</td>\n",
       "      <td>2.0</td>\n",
       "      <td>2723</td>\n",
       "      <td>131.659394</td>\n",
       "      <td>119.98</td>\n",
       "    </tr>\n",
       "  </tbody>\n",
       "</table>\n",
       "</div>"
      ],
      "text/plain": [
       "         Recency                    Frequency                  Monetary  \\\n",
       "           count        mean median     count      mean median    count   \n",
       "Clusters                                                                  \n",
       "0          18747  228.609271  220.0     18747  1.000000    1.0    18747   \n",
       "1          29195  403.116835  394.0     29195  1.000000    1.0    29195   \n",
       "2          39025  131.855093  132.0     39025  1.000000    1.0    39025   \n",
       "3           2723  244.521484  229.0      2723  2.133309    2.0     2723   \n",
       "\n",
       "                              \n",
       "                mean  median  \n",
       "Clusters                      \n",
       "0         183.189687  175.90  \n",
       "1          63.892136   59.00  \n",
       "2          60.601899   55.00  \n",
       "3         131.659394  119.98  "
      ]
     },
     "execution_count": 101,
     "metadata": {},
     "output_type": "execute_result"
    }
   ],
   "source": [
    "# karakteristik pada setiap klaster\n",
    "rfm_clean.groupby('Clusters').agg(['count', 'mean', 'median'])"
   ]
  },
  {
   "cell_type": "markdown",
   "metadata": {
    "id": "_WeHlCeX8DC2"
   },
   "source": [
    "## Conclusion"
   ]
  },
  {
   "cell_type": "markdown",
   "metadata": {
    "id": "ZTcyR48Y8DC2"
   },
   "source": [
    "- Dari model klaster k-means dengan pendekatan RFM, didapatkan jumlah klaster berjumlah 4\n",
    "- Klaster 0 : 20.9%, klaster 1 : 32.6%, klaster 2 : 43.5%, dan klaster 3 : 3%.\n",
    "- Klaster 3 adalah pelanggan yang sering melakukan pemesanan, klaster 0 pelanggan yang memiliki pembelian terbesar, klaster 2 pelanggan yang baru melakukan transaksi, sedangkan klaster 1 yang sudah lama tidak bertransaksi."
   ]
  },
  {
   "cell_type": "markdown",
   "metadata": {},
   "source": [
    "## Export Dataset"
   ]
  },
  {
   "cell_type": "code",
   "execution_count": 102,
   "metadata": {},
   "outputs": [
    {
     "data": {
      "text/plain": [
       "Index(['order_id', 'customer_id', 'order_status', 'order_purchase_timestamp',\n",
       "       'order_delivered_customer_date', 'order_estimated_delivery_date',\n",
       "       'product_id', 'shipping_limit_date', 'price', 'freight_value',\n",
       "       'customer_city', 'customer_state', 'product_category_name_english',\n",
       "       'month_year', 'lama_pemrosesan'],\n",
       "      dtype='object')"
      ]
     },
     "execution_count": 102,
     "metadata": {},
     "output_type": "execute_result"
    }
   ],
   "source": [
    "df_gabung.columns"
   ]
  },
  {
   "cell_type": "code",
   "execution_count": 103,
   "metadata": {},
   "outputs": [
    {
     "data": {
      "text/html": [
       "<div>\n",
       "<style scoped>\n",
       "    .dataframe tbody tr th:only-of-type {\n",
       "        vertical-align: middle;\n",
       "    }\n",
       "\n",
       "    .dataframe tbody tr th {\n",
       "        vertical-align: top;\n",
       "    }\n",
       "\n",
       "    .dataframe thead th {\n",
       "        text-align: right;\n",
       "    }\n",
       "</style>\n",
       "<table border=\"1\" class=\"dataframe\">\n",
       "  <thead>\n",
       "    <tr style=\"text-align: right;\">\n",
       "      <th></th>\n",
       "      <th>order_status</th>\n",
       "      <th>price</th>\n",
       "      <th>freight_value</th>\n",
       "      <th>customer_city</th>\n",
       "      <th>customer_state</th>\n",
       "      <th>product_category_name_english</th>\n",
       "      <th>lama_pemrosesan</th>\n",
       "      <th>order_date</th>\n",
       "    </tr>\n",
       "  </thead>\n",
       "  <tbody>\n",
       "    <tr>\n",
       "      <th>0</th>\n",
       "      <td>delivered</td>\n",
       "      <td>29.99</td>\n",
       "      <td>8.72</td>\n",
       "      <td>sao paulo</td>\n",
       "      <td>SP</td>\n",
       "      <td>housewares</td>\n",
       "      <td>8</td>\n",
       "      <td>2017-10-02</td>\n",
       "    </tr>\n",
       "    <tr>\n",
       "      <th>1</th>\n",
       "      <td>delivered</td>\n",
       "      <td>118.70</td>\n",
       "      <td>22.76</td>\n",
       "      <td>barreiras</td>\n",
       "      <td>BA</td>\n",
       "      <td>perfumery</td>\n",
       "      <td>13</td>\n",
       "      <td>2018-07-24</td>\n",
       "    </tr>\n",
       "    <tr>\n",
       "      <th>2</th>\n",
       "      <td>delivered</td>\n",
       "      <td>159.90</td>\n",
       "      <td>19.22</td>\n",
       "      <td>vianopolis</td>\n",
       "      <td>GO</td>\n",
       "      <td>auto</td>\n",
       "      <td>9</td>\n",
       "      <td>2018-08-08</td>\n",
       "    </tr>\n",
       "    <tr>\n",
       "      <th>3</th>\n",
       "      <td>delivered</td>\n",
       "      <td>45.00</td>\n",
       "      <td>27.20</td>\n",
       "      <td>sao goncalo do amarante</td>\n",
       "      <td>RN</td>\n",
       "      <td>pet_shop</td>\n",
       "      <td>13</td>\n",
       "      <td>2017-11-18</td>\n",
       "    </tr>\n",
       "    <tr>\n",
       "      <th>4</th>\n",
       "      <td>delivered</td>\n",
       "      <td>19.90</td>\n",
       "      <td>8.72</td>\n",
       "      <td>santo andre</td>\n",
       "      <td>SP</td>\n",
       "      <td>stationery</td>\n",
       "      <td>2</td>\n",
       "      <td>2018-02-13</td>\n",
       "    </tr>\n",
       "  </tbody>\n",
       "</table>\n",
       "</div>"
      ],
      "text/plain": [
       "  order_status   price  freight_value            customer_city customer_state  \\\n",
       "0    delivered   29.99           8.72                sao paulo             SP   \n",
       "1    delivered  118.70          22.76                barreiras             BA   \n",
       "2    delivered  159.90          19.22               vianopolis             GO   \n",
       "3    delivered   45.00          27.20  sao goncalo do amarante             RN   \n",
       "4    delivered   19.90           8.72              santo andre             SP   \n",
       "\n",
       "  product_category_name_english  lama_pemrosesan  order_date  \n",
       "0                    housewares                8  2017-10-02  \n",
       "1                     perfumery               13  2018-07-24  \n",
       "2                          auto                9  2018-08-08  \n",
       "3                      pet_shop               13  2017-11-18  \n",
       "4                    stationery                2  2018-02-13  "
      ]
     },
     "execution_count": 103,
     "metadata": {},
     "output_type": "execute_result"
    }
   ],
   "source": [
    "data = df_gabung[['order_status','order_purchase_timestamp','price','freight_value','customer_city', 'customer_state', 'product_category_name_english','lama_pemrosesan']]\n",
    "data['order_date'] = data['order_purchase_timestamp'].dt.date\n",
    "data.drop('order_purchase_timestamp', axis=1, inplace=True)\n",
    "data.head()"
   ]
  },
  {
   "cell_type": "code",
   "execution_count": 104,
   "metadata": {},
   "outputs": [],
   "source": [
    "data.to_pickle('data.pickle')"
   ]
  },
  {
   "cell_type": "code",
   "execution_count": 105,
   "metadata": {},
   "outputs": [],
   "source": [
    "# Definisikan mapping nama klaster\n",
    "cluster_names = {\n",
    "    0: \"Pelanggan Loyal\",\n",
    "    1: \"Pelanggan Tidak Aktif\",\n",
    "    2: \"Pelanggan Baru\",\n",
    "    3: \"Pelanggan Potensial\"\n",
    "}\n",
    "\n",
    "# Mengubah nama klaster\n",
    "rfm_clean['Clusters'] = rfm_clean['Clusters'].map(cluster_names)"
   ]
  },
  {
   "cell_type": "code",
   "execution_count": 106,
   "metadata": {},
   "outputs": [
    {
     "data": {
      "text/html": [
       "<div>\n",
       "<style scoped>\n",
       "    .dataframe tbody tr th:only-of-type {\n",
       "        vertical-align: middle;\n",
       "    }\n",
       "\n",
       "    .dataframe tbody tr th {\n",
       "        vertical-align: top;\n",
       "    }\n",
       "\n",
       "    .dataframe thead th {\n",
       "        text-align: right;\n",
       "    }\n",
       "</style>\n",
       "<table border=\"1\" class=\"dataframe\">\n",
       "  <thead>\n",
       "    <tr style=\"text-align: right;\">\n",
       "      <th></th>\n",
       "      <th>Recency</th>\n",
       "      <th>Frequency</th>\n",
       "      <th>Monetary</th>\n",
       "      <th>Clusters</th>\n",
       "    </tr>\n",
       "  </thead>\n",
       "  <tbody>\n",
       "    <tr>\n",
       "      <th>0</th>\n",
       "      <td>292</td>\n",
       "      <td>1</td>\n",
       "      <td>89.80</td>\n",
       "      <td>Pelanggan Tidak Aktif</td>\n",
       "    </tr>\n",
       "    <tr>\n",
       "      <th>1</th>\n",
       "      <td>413</td>\n",
       "      <td>1</td>\n",
       "      <td>54.90</td>\n",
       "      <td>Pelanggan Tidak Aktif</td>\n",
       "    </tr>\n",
       "    <tr>\n",
       "      <th>2</th>\n",
       "      <td>551</td>\n",
       "      <td>1</td>\n",
       "      <td>179.99</td>\n",
       "      <td>Pelanggan Tidak Aktif</td>\n",
       "    </tr>\n",
       "    <tr>\n",
       "      <th>3</th>\n",
       "      <td>382</td>\n",
       "      <td>1</td>\n",
       "      <td>149.90</td>\n",
       "      <td>Pelanggan Loyal</td>\n",
       "    </tr>\n",
       "    <tr>\n",
       "      <th>4</th>\n",
       "      <td>153</td>\n",
       "      <td>1</td>\n",
       "      <td>93.00</td>\n",
       "      <td>Pelanggan Baru</td>\n",
       "    </tr>\n",
       "    <tr>\n",
       "      <th>...</th>\n",
       "      <td>...</td>\n",
       "      <td>...</td>\n",
       "      <td>...</td>\n",
       "      <td>...</td>\n",
       "    </tr>\n",
       "    <tr>\n",
       "      <th>97251</th>\n",
       "      <td>170</td>\n",
       "      <td>1</td>\n",
       "      <td>78.00</td>\n",
       "      <td>Pelanggan Baru</td>\n",
       "    </tr>\n",
       "    <tr>\n",
       "      <th>97252</th>\n",
       "      <td>157</td>\n",
       "      <td>1</td>\n",
       "      <td>54.90</td>\n",
       "      <td>Pelanggan Baru</td>\n",
       "    </tr>\n",
       "    <tr>\n",
       "      <th>97253</th>\n",
       "      <td>103</td>\n",
       "      <td>1</td>\n",
       "      <td>47.90</td>\n",
       "      <td>Pelanggan Baru</td>\n",
       "    </tr>\n",
       "    <tr>\n",
       "      <th>97254</th>\n",
       "      <td>81</td>\n",
       "      <td>1</td>\n",
       "      <td>199.90</td>\n",
       "      <td>Pelanggan Loyal</td>\n",
       "    </tr>\n",
       "    <tr>\n",
       "      <th>97255</th>\n",
       "      <td>365</td>\n",
       "      <td>1</td>\n",
       "      <td>10.90</td>\n",
       "      <td>Pelanggan Tidak Aktif</td>\n",
       "    </tr>\n",
       "  </tbody>\n",
       "</table>\n",
       "<p>89690 rows × 4 columns</p>\n",
       "</div>"
      ],
      "text/plain": [
       "       Recency  Frequency  Monetary               Clusters\n",
       "0          292          1     89.80  Pelanggan Tidak Aktif\n",
       "1          413          1     54.90  Pelanggan Tidak Aktif\n",
       "2          551          1    179.99  Pelanggan Tidak Aktif\n",
       "3          382          1    149.90        Pelanggan Loyal\n",
       "4          153          1     93.00         Pelanggan Baru\n",
       "...        ...        ...       ...                    ...\n",
       "97251      170          1     78.00         Pelanggan Baru\n",
       "97252      157          1     54.90         Pelanggan Baru\n",
       "97253      103          1     47.90         Pelanggan Baru\n",
       "97254       81          1    199.90        Pelanggan Loyal\n",
       "97255      365          1     10.90  Pelanggan Tidak Aktif\n",
       "\n",
       "[89690 rows x 4 columns]"
      ]
     },
     "execution_count": 106,
     "metadata": {},
     "output_type": "execute_result"
    }
   ],
   "source": [
    "rfm_clean"
   ]
  },
  {
   "cell_type": "code",
   "execution_count": 107,
   "metadata": {},
   "outputs": [],
   "source": [
    "rfm_clean.to_pickle('rfm.pickle')"
   ]
  },
  {
   "cell_type": "markdown",
   "metadata": {},
   "source": [
    "# TERIMA KASIH"
   ]
  }
 ],
 "metadata": {
  "colab": {
   "provenance": []
  },
  "kernelspec": {
   "display_name": "Python 3 (ipykernel)",
   "language": "python",
   "name": "python3"
  },
  "language_info": {
   "codemirror_mode": {
    "name": "ipython",
    "version": 3
   },
   "file_extension": ".py",
   "mimetype": "text/x-python",
   "name": "python",
   "nbconvert_exporter": "python",
   "pygments_lexer": "ipython3",
   "version": "3.11.3"
  },
  "vscode": {
   "interpreter": {
    "hash": "972b3bf27e332e87b5379f2791f6ef9dfc79c71018c370b0d7423235e20fe4d7"
   }
  }
 },
 "nbformat": 4,
 "nbformat_minor": 4
}
